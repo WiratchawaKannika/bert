{
 "cells": [
  {
   "cell_type": "markdown",
   "metadata": {},
   "source": [
    "# **Legal BERT-th (FineTuning)**"
   ]
  },
  {
   "cell_type": "code",
   "execution_count": 7,
   "metadata": {},
   "outputs": [
    {
     "name": "stdout",
     "output_type": "stream",
     "text": [
      "/home/jupyter/bert_finetuning\n"
     ]
    }
   ],
   "source": [
    "%cd bert_finetuning"
   ]
  },
  {
   "cell_type": "code",
   "execution_count": 2,
   "metadata": {},
   "outputs": [
    {
     "data": {
      "text/plain": [
       "'/home/jupyter/bert_finetuning'"
      ]
     },
     "execution_count": 2,
     "metadata": {},
     "output_type": "execute_result"
    }
   ],
   "source": [
    "pwd"
   ]
  },
  {
   "cell_type": "markdown",
   "metadata": {
    "id": "OHSN6qRcegHP"
   },
   "source": [
    "> Install and import libraries"
   ]
  },
  {
   "cell_type": "code",
   "execution_count": 3,
   "metadata": {},
   "outputs": [
    {
     "name": "stdout",
     "output_type": "stream",
     "text": [
      "Collecting tensorflow-gpu==1.15\n",
      "  Using cached tensorflow_gpu-1.15.0-cp37-cp37m-manylinux2010_x86_64.whl (411.5 MB)\n",
      "Requirement already satisfied: wrapt>=1.11.1 in /opt/conda/lib/python3.7/site-packages (from tensorflow-gpu==1.15) (1.12.1)\n",
      "Requirement already satisfied: tensorflow-estimator==1.15.1 in /opt/conda/lib/python3.7/site-packages (from tensorflow-gpu==1.15) (1.15.1)\n",
      "Requirement already satisfied: keras-preprocessing>=1.0.5 in /opt/conda/lib/python3.7/site-packages (from tensorflow-gpu==1.15) (1.1.2)\n",
      "Requirement already satisfied: gast==0.2.2 in /opt/conda/lib/python3.7/site-packages (from tensorflow-gpu==1.15) (0.2.2)\n",
      "Requirement already satisfied: keras-applications>=1.0.8 in /opt/conda/lib/python3.7/site-packages (from tensorflow-gpu==1.15) (1.0.8)\n",
      "Requirement already satisfied: numpy<2.0,>=1.16.0 in /opt/conda/lib/python3.7/site-packages (from tensorflow-gpu==1.15) (1.19.4)\n",
      "Requirement already satisfied: tensorboard<1.16.0,>=1.15.0 in /opt/conda/lib/python3.7/site-packages (from tensorflow-gpu==1.15) (1.15.0)\n",
      "Requirement already satisfied: grpcio>=1.8.6 in /opt/conda/lib/python3.7/site-packages (from tensorflow-gpu==1.15) (1.34.0)\n",
      "Requirement already satisfied: six>=1.10.0 in /opt/conda/lib/python3.7/site-packages (from tensorflow-gpu==1.15) (1.15.0)\n",
      "Requirement already satisfied: absl-py>=0.7.0 in /opt/conda/lib/python3.7/site-packages (from tensorflow-gpu==1.15) (0.11.0)\n",
      "Requirement already satisfied: protobuf>=3.6.1 in /opt/conda/lib/python3.7/site-packages (from tensorflow-gpu==1.15) (3.14.0)\n",
      "Requirement already satisfied: wheel>=0.26 in /opt/conda/lib/python3.7/site-packages (from tensorflow-gpu==1.15) (0.36.2)\n",
      "Requirement already satisfied: termcolor>=1.1.0 in /opt/conda/lib/python3.7/site-packages (from tensorflow-gpu==1.15) (1.1.0)\n",
      "Requirement already satisfied: opt-einsum>=2.3.2 in /opt/conda/lib/python3.7/site-packages (from tensorflow-gpu==1.15) (3.3.0)\n",
      "Requirement already satisfied: google-pasta>=0.1.6 in /opt/conda/lib/python3.7/site-packages (from tensorflow-gpu==1.15) (0.2.0)\n",
      "Requirement already satisfied: astor>=0.6.0 in /opt/conda/lib/python3.7/site-packages (from tensorflow-gpu==1.15) (0.8.1)\n",
      "Requirement already satisfied: h5py in /opt/conda/lib/python3.7/site-packages (from keras-applications>=1.0.8->tensorflow-gpu==1.15) (3.1.0)\n",
      "Requirement already satisfied: setuptools>=41.0.0 in /opt/conda/lib/python3.7/site-packages (from tensorboard<1.16.0,>=1.15.0->tensorflow-gpu==1.15) (51.1.0)\n",
      "Requirement already satisfied: werkzeug>=0.11.15 in /opt/conda/lib/python3.7/site-packages (from tensorboard<1.16.0,>=1.15.0->tensorflow-gpu==1.15) (1.0.1)\n",
      "Requirement already satisfied: markdown>=2.6.8 in /opt/conda/lib/python3.7/site-packages (from tensorboard<1.16.0,>=1.15.0->tensorflow-gpu==1.15) (3.3.3)\n",
      "Requirement already satisfied: importlib-metadata in /opt/conda/lib/python3.7/site-packages (from markdown>=2.6.8->tensorboard<1.16.0,>=1.15.0->tensorflow-gpu==1.15) (3.3.0)\n",
      "Requirement already satisfied: cached-property in /opt/conda/lib/python3.7/site-packages (from h5py->keras-applications>=1.0.8->tensorflow-gpu==1.15) (1.5.2)\n",
      "Requirement already satisfied: typing-extensions>=3.6.4 in /opt/conda/lib/python3.7/site-packages (from importlib-metadata->markdown>=2.6.8->tensorboard<1.16.0,>=1.15.0->tensorflow-gpu==1.15) (3.7.4.3)\n",
      "Requirement already satisfied: zipp>=0.5 in /opt/conda/lib/python3.7/site-packages (from importlib-metadata->markdown>=2.6.8->tensorboard<1.16.0,>=1.15.0->tensorflow-gpu==1.15) (3.4.0)\n",
      "Installing collected packages: tensorflow-gpu\n",
      "\u001b[31mERROR: Could not install packages due to an EnvironmentError: [Errno 13] Permission denied: '/opt/conda/lib/python3.7/site-packages/tensorflow/__init__.py'\n",
      "Consider using the `--user` option or check the permissions.\n",
      "\u001b[0m\n"
     ]
    }
   ],
   "source": [
    "!pip install tensorflow-gpu==1.15"
   ]
  },
  {
   "cell_type": "code",
   "execution_count": 3,
   "metadata": {},
   "outputs": [
    {
     "name": "stdout",
     "output_type": "stream",
     "text": [
      "1.15.4\n"
     ]
    }
   ],
   "source": [
    "import tensorflow\n",
    "print(tensorflow.__version__)"
   ]
  },
  {
   "cell_type": "code",
   "execution_count": 4,
   "metadata": {
    "colab": {
     "base_uri": "https://localhost:8080/"
    },
    "id": "gBJFAo33gVZr",
    "outputId": "367a6763-427c-4a7c-9eb0-800329cb5ecf"
   },
   "outputs": [
    {
     "name": "stdout",
     "output_type": "stream",
     "text": [
      "Requirement already satisfied: sentencepiece in /opt/conda/lib/python3.7/site-packages (0.1.95)\n"
     ]
    }
   ],
   "source": [
    "# Install sentencepiece >> used for tokenizing Thai senetences\r\n",
    "!pip install sentencepiece"
   ]
  },
  {
   "cell_type": "code",
   "execution_count": 5,
   "metadata": {
    "colab": {
     "base_uri": "https://localhost:8080/"
    },
    "collapsed": true,
    "id": "N34eySK6giXX",
    "jupyter": {
     "outputs_hidden": true
    },
    "outputId": "80c182fa-38f8-4d0d-9ed3-fcc91b865f03"
   },
   "outputs": [
    {
     "name": "stdout",
     "output_type": "stream",
     "text": [
      "Requirement already satisfied: gdown in /opt/conda/lib/python3.7/site-packages (3.12.2)\n",
      "Requirement already satisfied: filelock in /opt/conda/lib/python3.7/site-packages (from gdown) (3.0.12)\n",
      "Requirement already satisfied: six in /opt/conda/lib/python3.7/site-packages (from gdown) (1.15.0)\n",
      "Requirement already satisfied: tqdm in /opt/conda/lib/python3.7/site-packages (from gdown) (4.55.0)\n",
      "Requirement already satisfied: requests[socks] in /opt/conda/lib/python3.7/site-packages (from gdown) (2.25.1)\n",
      "Requirement already satisfied: chardet<5,>=3.0.2 in /opt/conda/lib/python3.7/site-packages (from requests[socks]->gdown) (3.0.4)\n",
      "Requirement already satisfied: certifi>=2017.4.17 in /opt/conda/lib/python3.7/site-packages (from requests[socks]->gdown) (2020.12.5)\n",
      "Requirement already satisfied: urllib3<1.27,>=1.21.1 in /opt/conda/lib/python3.7/site-packages (from requests[socks]->gdown) (1.26.2)\n",
      "Requirement already satisfied: idna<3,>=2.5 in /opt/conda/lib/python3.7/site-packages (from requests[socks]->gdown) (2.10)\n",
      "Requirement already satisfied: PySocks!=1.5.7,>=1.5.6 in /opt/conda/lib/python3.7/site-packages (from requests[socks]->gdown) (1.7.1)\n"
     ]
    }
   ],
   "source": [
    "# Install gdown for downloading files from google drive\r\n",
    "!pip install gdown"
   ]
  },
  {
   "cell_type": "code",
   "execution_count": 2,
   "metadata": {
    "id": "8--fQHPhduLX"
   },
   "outputs": [],
   "source": [
    "import os\r\n",
    "import numpy as np\r\n",
    "import pandas as pd\r\n",
    "from sklearn.model_selection import train_test_split\r\n",
    "from sklearn.metrics import confusion_matrix\r\n",
    "import matplotlib.pyplot as plt"
   ]
  },
  {
   "cell_type": "markdown",
   "metadata": {
    "id": "2qO5YdlxhYP4"
   },
   "source": [
    "# **Download required files**\r\n",
    "> Thai Pretrained BERT model - bert_base_th (ThAIKeras)"
   ]
  },
  {
   "cell_type": "code",
   "execution_count": 8,
   "metadata": {
    "colab": {
     "base_uri": "https://localhost:8080/"
    },
    "id": "CYlUzGpUg_jd",
    "outputId": "6ae9c24c-290c-4693-d942-f09d4fc64c14"
   },
   "outputs": [
    {
     "name": "stdout",
     "output_type": "stream",
     "text": [
      "Downloading...\n",
      "From: https://drive.google.com/uc?id=1J3uuXZr_Se_XIFHj7zlTJ-C9wzI9W_ot\n",
      "To: /home/jupyter/bert_finetuning/bert_base_th.zip\n",
      "1.17GB [00:05, 230MB/s] \n"
     ]
    }
   ],
   "source": [
    "!gdown --id 1J3uuXZr_Se_XIFHj7zlTJ-C9wzI9W_ot # use only id in the link https://drive.google.com/uc?id=1J3uuXZr_Se_XIFHj7zlTJ-C9wzI9W_ot"
   ]
  },
  {
   "cell_type": "code",
   "execution_count": 9,
   "metadata": {
    "colab": {
     "base_uri": "https://localhost:8080/"
    },
    "id": "C28sJKnihgIv",
    "outputId": "9b553413-7fba-485f-dc24-7abd90638807"
   },
   "outputs": [
    {
     "name": "stdout",
     "output_type": "stream",
     "text": [
      "Archive:  bert_base_th.zip\n",
      "   creating: bert_base_th/\n",
      "  inflating: bert_base_th/model.ckpt.index  \n",
      "  inflating: bert_base_th/model.ckpt.meta  \n",
      "  inflating: bert_base_th/bert_config.json  \n",
      "  inflating: bert_base_th/model.ckpt.data-00000-of-00001  \n"
     ]
    }
   ],
   "source": [
    "!unzip bert_base_th.zip"
   ]
  },
  {
   "cell_type": "markdown",
   "metadata": {
    "id": "Od8ObWEthx-j"
   },
   "source": [
    "> th_wiki_bpe"
   ]
  },
  {
   "cell_type": "code",
   "execution_count": 10,
   "metadata": {
    "colab": {
     "base_uri": "https://localhost:8080/"
    },
    "id": "en6RjwwxhqbH",
    "outputId": "26c70e90-fd9c-44bd-99a6-7261eccd185a"
   },
   "outputs": [
    {
     "name": "stdout",
     "output_type": "stream",
     "text": [
      "Downloading...\n",
      "From: https://drive.google.com/uc?id=1F7pCgt3vPlarI9RxKtOZUrC_67KMNQ1W\n",
      "To: /home/jupyter/bert_finetuning/th_wiki_bpe.zip\n",
      "100%|████████████████████████████████████████| 560k/560k [00:00<00:00, 86.3MB/s]\n"
     ]
    }
   ],
   "source": [
    "!gdown --id 1F7pCgt3vPlarI9RxKtOZUrC_67KMNQ1W"
   ]
  },
  {
   "cell_type": "code",
   "execution_count": 11,
   "metadata": {
    "id": "Hl6MIsE_h1aK"
   },
   "outputs": [],
   "source": [
    "os.mkdir('th_wiki_bpe')"
   ]
  },
  {
   "cell_type": "code",
   "execution_count": 12,
   "metadata": {
    "colab": {
     "base_uri": "https://localhost:8080/"
    },
    "id": "7QVNsd57h5SV",
    "outputId": "f6a7c2b2-313a-4a9e-9ee3-472dce740e00"
   },
   "outputs": [
    {
     "name": "stdout",
     "output_type": "stream",
     "text": [
      "Archive:  th_wiki_bpe.zip\n",
      "  inflating: th_wiki_bpe/th.wiki.bpe.op25000.model  \n",
      "  inflating: th_wiki_bpe/th.wiki.bpe.op25000.vocab  \n"
     ]
    }
   ],
   "source": [
    "!unzip th_wiki_bpe.zip -d th_wiki_bpe"
   ]
  },
  {
   "cell_type": "markdown",
   "metadata": {
    "id": "LFk86EcFmnp-"
   },
   "source": [
    "> BERT classifier finetuner modified for Thai\r\n",
    "\r\n",
    "https://github.com/ThAIKeras/bert"
   ]
  },
  {
   "cell_type": "code",
   "execution_count": 13,
   "metadata": {
    "colab": {
     "base_uri": "https://localhost:8080/"
    },
    "id": "YARMva7wmRZy",
    "outputId": "ebcc6221-6344-4846-b5bd-1619ba7a5f4f"
   },
   "outputs": [
    {
     "name": "stdout",
     "output_type": "stream",
     "text": [
      "Downloading...\n",
      "From: https://github.com/ThAIKeras/bert.git\n",
      "To: /home/jupyter/bert_finetuning/bert.git\n",
      "139kB [00:00, 17.1MB/s]\n"
     ]
    }
   ],
   "source": [
    "!gdown https://github.com/ThAIKeras/bert.git"
   ]
  },
  {
   "cell_type": "code",
   "execution_count": 14,
   "metadata": {
    "colab": {
     "base_uri": "https://localhost:8080/"
    },
    "id": "vU5Y-eMCoO8U",
    "outputId": "44b4b7ee-aaa9-4ac9-b5f9-27549f72e290"
   },
   "outputs": [
    {
     "name": "stdout",
     "output_type": "stream",
     "text": [
      "Cloning into 'bert'...\n",
      "remote: Enumerating objects: 275, done.\u001b[K\n",
      "remote: Total 275 (delta 0), reused 0 (delta 0), pack-reused 275\u001b[K\n",
      "Receiving objects: 100% (275/275), 201.44 KiB | 6.50 MiB/s, done.\n",
      "Resolving deltas: 100% (151/151), done.\n"
     ]
    }
   ],
   "source": [
    "!git clone https://github.com/ThAIKeras/bert.git"
   ]
  },
  {
   "cell_type": "code",
   "execution_count": 15,
   "metadata": {
    "colab": {
     "base_uri": "https://localhost:8080/"
    },
    "id": "U4H-iLsTnU79",
    "outputId": "014d6e3e-ff22-4cf1-90ae-46564befb6d1"
   },
   "outputs": [
    {
     "name": "stdout",
     "output_type": "stream",
     "text": [
      "/bin/bash: https://github.com/ThAIKeras/bert.git: No such file or directory\n"
     ]
    }
   ],
   "source": [
    "!https://github.com/ThAIKeras/bert.git"
   ]
  },
  {
   "cell_type": "markdown",
   "metadata": {
    "id": "ELqQ3V9RpqjF"
   },
   "source": [
    "Now you should have these folders in the directory\r\n",
    "\r\n",
    "|-- bert\r\n",
    "\r\n",
    "|-- bert_base_th\r\n",
    "\r\n",
    "|-- th_wiki_bpe\r\n",
    "\r\n",
    "|-- truevoice-intent"
   ]
  },
  {
   "cell_type": "markdown",
   "metadata": {},
   "source": [
    "# Finetune the model\n",
    "\n",
    "> SAVE MODEL AS .pb using\n",
    "> ## --do_eval=true"
   ]
  },
  {
   "cell_type": "code",
   "execution_count": 3,
   "metadata": {},
   "outputs": [],
   "source": [
    "os.mkdir('model_finetuning')"
   ]
  },
  {
   "cell_type": "code",
   "execution_count": 4,
   "metadata": {},
   "outputs": [],
   "source": [
    "# Declare path to parse when finetuning\n",
    "os.environ['BPE_DIR'] = 'th_wiki_bpe' #'/content/th_wiki_bpe'\n",
    "os.environ['DATA_DIR'] = 'law_dataset' #'/content/law_data'\n",
    "os.environ['OUTPUT_DIR'] = 'model_finetuning' #'/content/model'\n",
    "os.environ['BERT_BASE_DIR'] = 'Legalbert_th' #'/content/bert_base_th'"
   ]
  },
  {
   "cell_type": "code",
   "execution_count": 5,
   "metadata": {},
   "outputs": [
    {
     "name": "stdout",
     "output_type": "stream",
     "text": [
      "python: can't open file 'bert/law_classifier.py': [Errno 2] No such file or directory\n"
     ]
    }
   ],
   "source": [
    "# Run finetuning(Classes)\n",
    "!python bert/law_classifier.py \\--task_name=legaldoc \\--do_train=true \\--do_eval=true \\--do_export=true \\--data_dir=$DATA_DIR \\--vocab_file=$BPE_DIR/th.wiki.bpe.op25000.vocab \\--bert_config_file=$BERT_BASE_DIR/bert_config.json \\--init_checkpoint=$BERT_BASE_DIR/model.ckpt-20 \\--max_seq_length=128 \\--train_batch_size=32 \\--learning_rate=5e-5 \\--num_train_epochs=3.0 \\--output_dir=$OUTPUT_DIR \\--spm_file=$BPE_DIR/th.wiki.bpe.op25000.model"
   ]
  },
  {
   "cell_type": "markdown",
   "metadata": {},
   "source": [
    "# BERT to Predict on Test Data"
   ]
  },
  {
   "cell_type": "code",
   "execution_count": 8,
   "metadata": {},
   "outputs": [],
   "source": [
    "os.mkdir('output_predict2')"
   ]
  },
  {
   "cell_type": "code",
   "execution_count": 9,
   "metadata": {},
   "outputs": [],
   "source": [
    "os.environ['BPE_DIR'] = 'th_wiki_bpe' #'/content/th_wiki_bpe'\n",
    "os.environ['DATA_DIR'] = 'law_dataset' #'/content/law_data'\n",
    "os.environ['OUTPUT_DIR'] = 'output_predict2' #'/content/model'\n",
    "os.environ['BERT_FINE_DIR'] = 'model_finetuning2' #'/content/bert_base_th'"
   ]
  },
  {
   "cell_type": "code",
   "execution_count": 10,
   "metadata": {
    "collapsed": true,
    "jupyter": {
     "outputs_hidden": true
    }
   },
   "outputs": [
    {
     "name": "stdout",
     "output_type": "stream",
     "text": [
      "2021-01-23 13:57:27.671096: I tensorflow/stream_executor/platform/default/dso_loader.cc:48] Successfully opened dynamic library libcudart.so.11.0\n",
      "WARNING:tensorflow:From /home/jupyter/bert_finetuning/bert/optimization.py:84: The name tf.train.Optimizer is deprecated. Please use tf.compat.v1.train.Optimizer instead.\n",
      "\n",
      "WARNING:tensorflow:From bert/law_classifier.py:1069: The name tf.app.run is deprecated. Please use tf.compat.v1.app.run instead.\n",
      "\n",
      "WARNING:tensorflow:From bert/law_classifier.py:874: The name tf.logging.set_verbosity is deprecated. Please use tf.compat.v1.logging.set_verbosity instead.\n",
      "\n",
      "W0123 13:57:29.128298 140674925967168 module_wrapper.py:139] From bert/law_classifier.py:874: The name tf.logging.set_verbosity is deprecated. Please use tf.compat.v1.logging.set_verbosity instead.\n",
      "\n",
      "WARNING:tensorflow:From bert/law_classifier.py:874: The name tf.logging.INFO is deprecated. Please use tf.compat.v1.logging.INFO instead.\n",
      "\n",
      "W0123 13:57:29.128467 140674925967168 module_wrapper.py:139] From bert/law_classifier.py:874: The name tf.logging.INFO is deprecated. Please use tf.compat.v1.logging.INFO instead.\n",
      "\n",
      "WARNING:tensorflow:From /home/jupyter/bert_finetuning/bert/modeling.py:92: The name tf.gfile.GFile is deprecated. Please use tf.io.gfile.GFile instead.\n",
      "\n",
      "W0123 13:57:29.128630 140674925967168 module_wrapper.py:139] From /home/jupyter/bert_finetuning/bert/modeling.py:92: The name tf.gfile.GFile is deprecated. Please use tf.io.gfile.GFile instead.\n",
      "\n",
      "WARNING:tensorflow:From bert/law_classifier.py:897: The name tf.gfile.MakeDirs is deprecated. Please use tf.io.gfile.makedirs instead.\n",
      "\n",
      "W0123 13:57:29.129191 140674925967168 module_wrapper.py:139] From bert/law_classifier.py:897: The name tf.gfile.MakeDirs is deprecated. Please use tf.io.gfile.makedirs instead.\n",
      "\n",
      "WARNING:tensorflow:\n",
      "The TensorFlow contrib module will not be included in TensorFlow 2.0.\n",
      "For more information, please see:\n",
      "  * https://github.com/tensorflow/community/blob/master/rfcs/20180907-contrib-sunset.md\n",
      "  * https://github.com/tensorflow/addons\n",
      "  * https://github.com/tensorflow/io (for I/O related ops)\n",
      "If you depend on functionality not listed there, please file an issue.\n",
      "\n",
      "W0123 13:57:29.251199 140674925967168 lazy_loader.py:50] \n",
      "The TensorFlow contrib module will not be included in TensorFlow 2.0.\n",
      "For more information, please see:\n",
      "  * https://github.com/tensorflow/community/blob/master/rfcs/20180907-contrib-sunset.md\n",
      "  * https://github.com/tensorflow/addons\n",
      "  * https://github.com/tensorflow/io (for I/O related ops)\n",
      "If you depend on functionality not listed there, please file an issue.\n",
      "\n",
      "WARNING:tensorflow:Estimator's model_fn (<function model_fn_builder.<locals>.model_fn at 0x7ff0d5d8c0e0>) includes params argument, but params are not passed to Estimator.\n",
      "W0123 13:57:29.767994 140674925967168 estimator.py:1994] Estimator's model_fn (<function model_fn_builder.<locals>.model_fn at 0x7ff0d5d8c0e0>) includes params argument, but params are not passed to Estimator.\n",
      "INFO:tensorflow:Using config: {'_model_dir': 'output_predict2', '_tf_random_seed': None, '_save_summary_steps': 100, '_save_checkpoints_steps': 1000, '_save_checkpoints_secs': None, '_session_config': allow_soft_placement: true\n",
      "graph_options {\n",
      "  rewrite_options {\n",
      "    meta_optimizer_iterations: ONE\n",
      "  }\n",
      "}\n",
      ", '_keep_checkpoint_max': 5, '_keep_checkpoint_every_n_hours': 10000, '_log_step_count_steps': None, '_train_distribute': None, '_device_fn': None, '_protocol': None, '_eval_distribute': None, '_experimental_distribute': None, '_experimental_max_worker_delay_secs': None, '_session_creation_timeout_secs': 7200, '_service': None, '_cluster_spec': <tensorflow.python.training.server_lib.ClusterSpec object at 0x7ff0d5d38750>, '_task_type': 'worker', '_task_id': 0, '_global_id_in_cluster': 0, '_master': '', '_evaluation_master': '', '_is_chief': True, '_num_ps_replicas': 0, '_num_worker_replicas': 1, '_tpu_config': TPUConfig(iterations_per_loop=1000, num_shards=8, num_cores_per_replica=None, per_host_input_for_training=3, tpu_job_name=None, initial_infeed_sleep_secs=None, input_partition_dims=None, eval_training_input_configuration=2, experimental_host_call_every_n_steps=1), '_cluster': None}\n",
      "I0123 13:57:29.768618 140674925967168 estimator.py:212] Using config: {'_model_dir': 'output_predict2', '_tf_random_seed': None, '_save_summary_steps': 100, '_save_checkpoints_steps': 1000, '_save_checkpoints_secs': None, '_session_config': allow_soft_placement: true\n",
      "graph_options {\n",
      "  rewrite_options {\n",
      "    meta_optimizer_iterations: ONE\n",
      "  }\n",
      "}\n",
      ", '_keep_checkpoint_max': 5, '_keep_checkpoint_every_n_hours': 10000, '_log_step_count_steps': None, '_train_distribute': None, '_device_fn': None, '_protocol': None, '_eval_distribute': None, '_experimental_distribute': None, '_experimental_max_worker_delay_secs': None, '_session_creation_timeout_secs': 7200, '_service': None, '_cluster_spec': <tensorflow.python.training.server_lib.ClusterSpec object at 0x7ff0d5d38750>, '_task_type': 'worker', '_task_id': 0, '_global_id_in_cluster': 0, '_master': '', '_evaluation_master': '', '_is_chief': True, '_num_ps_replicas': 0, '_num_worker_replicas': 1, '_tpu_config': TPUConfig(iterations_per_loop=1000, num_shards=8, num_cores_per_replica=None, per_host_input_for_training=3, tpu_job_name=None, initial_infeed_sleep_secs=None, input_partition_dims=None, eval_training_input_configuration=2, experimental_host_call_every_n_steps=1), '_cluster': None}\n",
      "INFO:tensorflow:_TPUContext: eval_on_tpu True\n",
      "I0123 13:57:29.768902 140674925967168 tpu_context.py:220] _TPUContext: eval_on_tpu True\n",
      "WARNING:tensorflow:eval_on_tpu ignored because use_tpu is False.\n",
      "W0123 13:57:29.769019 140674925967168 tpu_context.py:222] eval_on_tpu ignored because use_tpu is False.\n",
      "WARNING:tensorflow:From bert/law_classifier.py:190: The name tf.gfile.Open is deprecated. Please use tf.io.gfile.GFile instead.\n",
      "\n",
      "W0123 13:57:29.769159 140674925967168 module_wrapper.py:139] From bert/law_classifier.py:190: The name tf.gfile.Open is deprecated. Please use tf.io.gfile.GFile instead.\n",
      "\n",
      "WARNING:tensorflow:From bert/law_classifier.py:551: The name tf.python_io.TFRecordWriter is deprecated. Please use tf.io.TFRecordWriter instead.\n",
      "\n",
      "W0123 13:57:29.821521 140674925967168 module_wrapper.py:139] From bert/law_classifier.py:551: The name tf.python_io.TFRecordWriter is deprecated. Please use tf.io.TFRecordWriter instead.\n",
      "\n",
      "WARNING:tensorflow:From bert/law_classifier.py:555: The name tf.logging.info is deprecated. Please use tf.compat.v1.logging.info instead.\n",
      "\n",
      "W0123 13:57:29.821841 140674925967168 module_wrapper.py:139] From bert/law_classifier.py:555: The name tf.logging.info is deprecated. Please use tf.compat.v1.logging.info instead.\n",
      "\n",
      "INFO:tensorflow:Writing example 0 of 2109\n",
      "I0123 13:57:29.821932 140674925967168 law_classifier.py:555] Writing example 0 of 2109\n",
      "INFO:tensorflow:*** Example ***\n",
      "I0123 13:57:29.853045 140674925967168 law_classifier.py:530] *** Example ***\n",
      "INFO:tensorflow:guid: test-1\n",
      "I0123 13:57:29.853245 140674925967168 law_classifier.py:531] guid: test-1\n",
      "INFO:tensorflow:tokens: [CLS] ▁เรื่อง มี อยู ่ว่า พ่อ ฉัน เป็น ขี้ เมา ประจํา หมู่บ้าน ตามหลัก ก็คือ คน ไม่ดี ซัก เท่า ไหร ่ หร อก เวลา เมา ชอบ หา เรื่อง อยาก จะมี เรื่อง ก กับ ชาวบ้าน เดิน ด ่า ไป เรื่อย ตาม ทาง แต่ก็ แค่ ปาก พูด ไม่เคย ทํา อะไร ใคร จิง เวลา พ่อ ฉัน เดิน กลับ บ้าน ก็ จะต้อง เดิน ผ่าน บ้าน คนอื่น ก่อน มัน เป็นทาง ประจํา ของ พ่อ แต่ บ้าน นี้ เค้า จะเปิด บ้าน เช่า เป็น หลัง ๆ ไว้ ให้ กรรม กร อยู่ เพราะ บ้าน ฉัน เป็นแหล่ง อุตสาหกรรม พ่อ เดินทาง นี้ มาก่อน เรา เกิด อีก ประมาณปี และ เมื่อ วันอาทิตย์ที่ ผ่านมา พ่อ ฉัน ก็ เม ามา ตาก ปกติ พ่อ เดิน ผ่าน บ้าน นี้ เหมือนเดิม และ ปาก ก็ ไม่ดี เหมือน ทุกวัน มี บ้าน เช่า อยู่ หล ัว หนึ่ง พ่อ ฉัน [SEP]\n",
      "I0123 13:57:29.853435 140674925967168 law_classifier.py:533] tokens: [CLS] ▁เรื่อง มี อยู ่ว่า พ่อ ฉัน เป็น ขี้ เมา ประจํา หมู่บ้าน ตามหลัก ก็คือ คน ไม่ดี ซัก เท่า ไหร ่ หร อก เวลา เมา ชอบ หา เรื่อง อยาก จะมี เรื่อง ก กับ ชาวบ้าน เดิน ด ่า ไป เรื่อย ตาม ทาง แต่ก็ แค่ ปาก พูด ไม่เคย ทํา อะไร ใคร จิง เวลา พ่อ ฉัน เดิน กลับ บ้าน ก็ จะต้อง เดิน ผ่าน บ้าน คนอื่น ก่อน มัน เป็นทาง ประจํา ของ พ่อ แต่ บ้าน นี้ เค้า จะเปิด บ้าน เช่า เป็น หลัง ๆ ไว้ ให้ กรรม กร อยู่ เพราะ บ้าน ฉัน เป็นแหล่ง อุตสาหกรรม พ่อ เดินทาง นี้ มาก่อน เรา เกิด อีก ประมาณปี และ เมื่อ วันอาทิตย์ที่ ผ่านมา พ่อ ฉัน ก็ เม ามา ตาก ปกติ พ่อ เดิน ผ่าน บ้าน นี้ เหมือนเดิม และ ปาก ก็ ไม่ดี เหมือน ทุกวัน มี บ้าน เช่า อยู่ หล ัว หนึ่ง พ่อ ฉัน [SEP]\n",
      "INFO:tensorflow:input_ids: 1 1722 35 2499 3761 2565 5414 38 6274 7495 1154 3096 18602 5693 325 15105 11654 2632 24436 24727 85 74 879 7495 2185 832 420 5935 1402 420 24725 104 8922 1302 24736 73 157 5092 395 107 13730 4511 1345 1292 9505 212 6883 4629 7793 879 2565 5414 1302 1486 738 606 4318 1302 746 738 9286 961 845 19848 1154 34 2565 340 738 138 9155 20641 738 9932 38 421 24802 1135 166 586 186 125 2895 738 5414 10125 2526 2565 2182 138 5214 3267 214 568 19057 30 188 13660 6859 2565 5414 606 46 1215 4187 1671 2565 1302 746 738 138 23535 30 1345 606 15105 1681 2832 35 738 9932 125 72 118 229 2565 5414 2\n",
      "I0123 13:57:29.853657 140674925967168 law_classifier.py:534] input_ids: 1 1722 35 2499 3761 2565 5414 38 6274 7495 1154 3096 18602 5693 325 15105 11654 2632 24436 24727 85 74 879 7495 2185 832 420 5935 1402 420 24725 104 8922 1302 24736 73 157 5092 395 107 13730 4511 1345 1292 9505 212 6883 4629 7793 879 2565 5414 1302 1486 738 606 4318 1302 746 738 9286 961 845 19848 1154 34 2565 340 738 138 9155 20641 738 9932 38 421 24802 1135 166 586 186 125 2895 738 5414 10125 2526 2565 2182 138 5214 3267 214 568 19057 30 188 13660 6859 2565 5414 606 46 1215 4187 1671 2565 1302 746 738 138 23535 30 1345 606 15105 1681 2832 35 738 9932 125 72 118 229 2565 5414 2\n",
      "INFO:tensorflow:input_mask: 1 1 1 1 1 1 1 1 1 1 1 1 1 1 1 1 1 1 1 1 1 1 1 1 1 1 1 1 1 1 1 1 1 1 1 1 1 1 1 1 1 1 1 1 1 1 1 1 1 1 1 1 1 1 1 1 1 1 1 1 1 1 1 1 1 1 1 1 1 1 1 1 1 1 1 1 1 1 1 1 1 1 1 1 1 1 1 1 1 1 1 1 1 1 1 1 1 1 1 1 1 1 1 1 1 1 1 1 1 1 1 1 1 1 1 1 1 1 1 1 1 1 1 1 1 1 1 1\n",
      "I0123 13:57:29.853788 140674925967168 law_classifier.py:535] input_mask: 1 1 1 1 1 1 1 1 1 1 1 1 1 1 1 1 1 1 1 1 1 1 1 1 1 1 1 1 1 1 1 1 1 1 1 1 1 1 1 1 1 1 1 1 1 1 1 1 1 1 1 1 1 1 1 1 1 1 1 1 1 1 1 1 1 1 1 1 1 1 1 1 1 1 1 1 1 1 1 1 1 1 1 1 1 1 1 1 1 1 1 1 1 1 1 1 1 1 1 1 1 1 1 1 1 1 1 1 1 1 1 1 1 1 1 1 1 1 1 1 1 1 1 1 1 1 1 1\n",
      "INFO:tensorflow:segment_ids: 0 0 0 0 0 0 0 0 0 0 0 0 0 0 0 0 0 0 0 0 0 0 0 0 0 0 0 0 0 0 0 0 0 0 0 0 0 0 0 0 0 0 0 0 0 0 0 0 0 0 0 0 0 0 0 0 0 0 0 0 0 0 0 0 0 0 0 0 0 0 0 0 0 0 0 0 0 0 0 0 0 0 0 0 0 0 0 0 0 0 0 0 0 0 0 0 0 0 0 0 0 0 0 0 0 0 0 0 0 0 0 0 0 0 0 0 0 0 0 0 0 0 0 0 0 0 0 0\n",
      "I0123 13:57:29.853874 140674925967168 law_classifier.py:536] segment_ids: 0 0 0 0 0 0 0 0 0 0 0 0 0 0 0 0 0 0 0 0 0 0 0 0 0 0 0 0 0 0 0 0 0 0 0 0 0 0 0 0 0 0 0 0 0 0 0 0 0 0 0 0 0 0 0 0 0 0 0 0 0 0 0 0 0 0 0 0 0 0 0 0 0 0 0 0 0 0 0 0 0 0 0 0 0 0 0 0 0 0 0 0 0 0 0 0 0 0 0 0 0 0 0 0 0 0 0 0 0 0 0 0 0 0 0 0 0 0 0 0 0 0 0 0 0 0 0 0\n",
      "INFO:tensorflow:label: family (id = 1)\n",
      "I0123 13:57:29.853921 140674925967168 law_classifier.py:537] label: family (id = 1)\n",
      "INFO:tensorflow:*** Example ***\n",
      "I0123 13:57:29.855584 140674925967168 law_classifier.py:530] *** Example ***\n",
      "INFO:tensorflow:guid: test-2\n",
      "I0123 13:57:29.855707 140674925967168 law_classifier.py:531] guid: test-2\n",
      "INFO:tensorflow:tokens: [CLS] ▁อายุ ความ คดี อาญา ที่เกี่ยวกับ เช ็ค จะเริ่ม นับ จาก เมื่อ ไหร ่ และ หมด อายุ เมื่อ ไหร ่ เริ่ม นับ จาก วันที่ ออก หมาย จับ หรือ ว่าน ับ จาก วันที่ รู้ว่า เช ็ค เด้ ง [SEP]\n",
      "I0123 13:57:29.855775 140674925967168 law_classifier.py:533] tokens: [CLS] ▁อายุ ความ คดี อาญา ที่เกี่ยวกับ เช ็ค จะเริ่ม นับ จาก เมื่อ ไหร ่ และ หมด อายุ เมื่อ ไหร ่ เริ่ม นับ จาก วันที่ ออก หมาย จับ หรือ ว่าน ับ จาก วันที่ รู้ว่า เช ็ค เด้ ง [SEP]\n",
      "INFO:tensorflow:input_ids: 1 6217 165 2724 18123 9750 211 2423 17888 2297 80 188 24436 24727 30 653 1397 188 24436 24727 855 2297 80 129 183 256 2036 135 6754 32 80 129 19381 211 2423 15523 24726 2 0 0 0 0 0 0 0 0 0 0 0 0 0 0 0 0 0 0 0 0 0 0 0 0 0 0 0 0 0 0 0 0 0 0 0 0 0 0 0 0 0 0 0 0 0 0 0 0 0 0 0 0 0 0 0 0 0 0 0 0 0 0 0 0 0 0 0 0 0 0 0 0 0 0 0 0 0 0 0 0 0 0 0 0 0 0 0 0 0 0\n",
      "I0123 13:57:29.855863 140674925967168 law_classifier.py:534] input_ids: 1 6217 165 2724 18123 9750 211 2423 17888 2297 80 188 24436 24727 30 653 1397 188 24436 24727 855 2297 80 129 183 256 2036 135 6754 32 80 129 19381 211 2423 15523 24726 2 0 0 0 0 0 0 0 0 0 0 0 0 0 0 0 0 0 0 0 0 0 0 0 0 0 0 0 0 0 0 0 0 0 0 0 0 0 0 0 0 0 0 0 0 0 0 0 0 0 0 0 0 0 0 0 0 0 0 0 0 0 0 0 0 0 0 0 0 0 0 0 0 0 0 0 0 0 0 0 0 0 0 0 0 0 0 0 0 0 0\n",
      "INFO:tensorflow:input_mask: 1 1 1 1 1 1 1 1 1 1 1 1 1 1 1 1 1 1 1 1 1 1 1 1 1 1 1 1 1 1 1 1 1 1 1 1 1 1 0 0 0 0 0 0 0 0 0 0 0 0 0 0 0 0 0 0 0 0 0 0 0 0 0 0 0 0 0 0 0 0 0 0 0 0 0 0 0 0 0 0 0 0 0 0 0 0 0 0 0 0 0 0 0 0 0 0 0 0 0 0 0 0 0 0 0 0 0 0 0 0 0 0 0 0 0 0 0 0 0 0 0 0 0 0 0 0 0 0\n",
      "I0123 13:57:29.855949 140674925967168 law_classifier.py:535] input_mask: 1 1 1 1 1 1 1 1 1 1 1 1 1 1 1 1 1 1 1 1 1 1 1 1 1 1 1 1 1 1 1 1 1 1 1 1 1 1 0 0 0 0 0 0 0 0 0 0 0 0 0 0 0 0 0 0 0 0 0 0 0 0 0 0 0 0 0 0 0 0 0 0 0 0 0 0 0 0 0 0 0 0 0 0 0 0 0 0 0 0 0 0 0 0 0 0 0 0 0 0 0 0 0 0 0 0 0 0 0 0 0 0 0 0 0 0 0 0 0 0 0 0 0 0 0 0 0 0\n",
      "INFO:tensorflow:segment_ids: 0 0 0 0 0 0 0 0 0 0 0 0 0 0 0 0 0 0 0 0 0 0 0 0 0 0 0 0 0 0 0 0 0 0 0 0 0 0 0 0 0 0 0 0 0 0 0 0 0 0 0 0 0 0 0 0 0 0 0 0 0 0 0 0 0 0 0 0 0 0 0 0 0 0 0 0 0 0 0 0 0 0 0 0 0 0 0 0 0 0 0 0 0 0 0 0 0 0 0 0 0 0 0 0 0 0 0 0 0 0 0 0 0 0 0 0 0 0 0 0 0 0 0 0 0 0 0 0\n",
      "I0123 13:57:29.856072 140674925967168 law_classifier.py:536] segment_ids: 0 0 0 0 0 0 0 0 0 0 0 0 0 0 0 0 0 0 0 0 0 0 0 0 0 0 0 0 0 0 0 0 0 0 0 0 0 0 0 0 0 0 0 0 0 0 0 0 0 0 0 0 0 0 0 0 0 0 0 0 0 0 0 0 0 0 0 0 0 0 0 0 0 0 0 0 0 0 0 0 0 0 0 0 0 0 0 0 0 0 0 0 0 0 0 0 0 0 0 0 0 0 0 0 0 0 0 0 0 0 0 0 0 0 0 0 0 0 0 0 0 0 0 0 0 0 0 0\n",
      "INFO:tensorflow:label: family (id = 1)\n",
      "I0123 13:57:29.856195 140674925967168 law_classifier.py:537] label: family (id = 1)\n",
      "INFO:tensorflow:*** Example ***\n",
      "I0123 13:57:29.867826 140674925967168 law_classifier.py:530] *** Example ***\n",
      "INFO:tensorflow:guid: test-3\n",
      "I0123 13:57:29.867919 140674925967168 law_classifier.py:531] guid: test-3\n",
      "INFO:tensorflow:tokens: [CLS] ▁คือ ดิ ฉัน เป็น พนักงาน บริษัท แห่งหนึ่ง ซึ่ง เช่า พื้นที่ ของทาง ห้าง ในการ ขาย สินค้า เรื่อง มี อยู ่ว่า ตอน เย็น วันที่ ตอน เลิก งาน มี พนักงาน อีก ร้าน ใน ห้าง เดียวกัน ซึ่ง รู้สึก จะเป็น วันหยุด ของเขา เข้ามา ทําร้าย ร่างกาย ดิ ฉัน ใน ลาน จอด รถ พนักงาน ซึ่ง ดิ ฉัน ก็ ไม่ได้ โต้ ตอบ แต่อย่างใด จึง นํา เรื่องนี้ เข้า แจ้ง ความ ที่ โรง พัก แล้ว ทําการ ตรวจ ร่างกาย ประกอบ พอ มา อีก วัน ทาง ห้าง ทราบ ข่าว ก็ เรียก เข้าไป สอบสวน เขา ถาม ว่ามี เรื่อง อะ ไ รก ัน มาก่อน หรือ ปล ่าว ดิ ฉัน ก็ บอกว่า เคยมี ตอนต้น เดือน เพราะ เขา ไม่พอใจ ที่เรา โทร หา แฟน เขา ซึ่ง เรื่อง นั้น มัน ก็ ล่วง เลย มา พอสมควร แล้วแต่ ดิ ฉัน คิดว่า เรื่อง ทําร้าย ร่างกาย มัน คนละ [SEP]\n",
      "I0123 13:57:29.867994 140674925967168 law_classifier.py:533] tokens: [CLS] ▁คือ ดิ ฉัน เป็น พนักงาน บริษัท แห่งหนึ่ง ซึ่ง เช่า พื้นที่ ของทาง ห้าง ในการ ขาย สินค้า เรื่อง มี อยู ่ว่า ตอน เย็น วันที่ ตอน เลิก งาน มี พนักงาน อีก ร้าน ใน ห้าง เดียวกัน ซึ่ง รู้สึก จะเป็น วันหยุด ของเขา เข้ามา ทําร้าย ร่างกาย ดิ ฉัน ใน ลาน จอด รถ พนักงาน ซึ่ง ดิ ฉัน ก็ ไม่ได้ โต้ ตอบ แต่อย่างใด จึง นํา เรื่องนี้ เข้า แจ้ง ความ ที่ โรง พัก แล้ว ทําการ ตรวจ ร่างกาย ประกอบ พอ มา อีก วัน ทาง ห้าง ทราบ ข่าว ก็ เรียก เข้าไป สอบสวน เขา ถาม ว่ามี เรื่อง อะ ไ รก ัน มาก่อน หรือ ปล ่าว ดิ ฉัน ก็ บอกว่า เคยมี ตอนต้น เดือน เพราะ เขา ไม่พอใจ ที่เรา โทร หา แฟน เขา ซึ่ง เรื่อง นั้น มัน ก็ ล่วง เลย มา พอสมควร แล้วแต่ ดิ ฉัน คิดว่า เรื่อง ทําร้าย ร่างกาย มัน คนละ [SEP]\n",
      "INFO:tensorflow:input_ids: 1 353 283 5414 38 8213 1088 5133 681 9932 763 12303 10618 546 1191 3038 420 35 2499 3761 679 3474 129 679 3411 301 35 8213 568 3208 17 10618 1355 681 8306 1550 14115 1668 2399 16133 3005 283 5414 17 4695 7623 620 8213 681 283 5414 606 1680 4950 3471 14158 1075 533 7781 521 5232 165 13 608 3024 559 1981 3071 3005 467 2675 78 568 70 107 10618 4159 2156 606 900 2829 17244 477 4845 4165 420 610 24760 146 15 5214 135 181 671 283 5414 606 23315 16641 6826 849 2895 477 20269 16939 548 832 4382 477 681 420 489 845 606 11892 3179 78 13268 19850 283 5414 14666 420 16133 3005 845 10884 2\n",
      "I0123 13:57:29.868093 140674925967168 law_classifier.py:534] input_ids: 1 353 283 5414 38 8213 1088 5133 681 9932 763 12303 10618 546 1191 3038 420 35 2499 3761 679 3474 129 679 3411 301 35 8213 568 3208 17 10618 1355 681 8306 1550 14115 1668 2399 16133 3005 283 5414 17 4695 7623 620 8213 681 283 5414 606 1680 4950 3471 14158 1075 533 7781 521 5232 165 13 608 3024 559 1981 3071 3005 467 2675 78 568 70 107 10618 4159 2156 606 900 2829 17244 477 4845 4165 420 610 24760 146 15 5214 135 181 671 283 5414 606 23315 16641 6826 849 2895 477 20269 16939 548 832 4382 477 681 420 489 845 606 11892 3179 78 13268 19850 283 5414 14666 420 16133 3005 845 10884 2\n",
      "INFO:tensorflow:input_mask: 1 1 1 1 1 1 1 1 1 1 1 1 1 1 1 1 1 1 1 1 1 1 1 1 1 1 1 1 1 1 1 1 1 1 1 1 1 1 1 1 1 1 1 1 1 1 1 1 1 1 1 1 1 1 1 1 1 1 1 1 1 1 1 1 1 1 1 1 1 1 1 1 1 1 1 1 1 1 1 1 1 1 1 1 1 1 1 1 1 1 1 1 1 1 1 1 1 1 1 1 1 1 1 1 1 1 1 1 1 1 1 1 1 1 1 1 1 1 1 1 1 1 1 1 1 1 1 1\n",
      "I0123 13:57:29.868165 140674925967168 law_classifier.py:535] input_mask: 1 1 1 1 1 1 1 1 1 1 1 1 1 1 1 1 1 1 1 1 1 1 1 1 1 1 1 1 1 1 1 1 1 1 1 1 1 1 1 1 1 1 1 1 1 1 1 1 1 1 1 1 1 1 1 1 1 1 1 1 1 1 1 1 1 1 1 1 1 1 1 1 1 1 1 1 1 1 1 1 1 1 1 1 1 1 1 1 1 1 1 1 1 1 1 1 1 1 1 1 1 1 1 1 1 1 1 1 1 1 1 1 1 1 1 1 1 1 1 1 1 1 1 1 1 1 1 1\n",
      "INFO:tensorflow:segment_ids: 0 0 0 0 0 0 0 0 0 0 0 0 0 0 0 0 0 0 0 0 0 0 0 0 0 0 0 0 0 0 0 0 0 0 0 0 0 0 0 0 0 0 0 0 0 0 0 0 0 0 0 0 0 0 0 0 0 0 0 0 0 0 0 0 0 0 0 0 0 0 0 0 0 0 0 0 0 0 0 0 0 0 0 0 0 0 0 0 0 0 0 0 0 0 0 0 0 0 0 0 0 0 0 0 0 0 0 0 0 0 0 0 0 0 0 0 0 0 0 0 0 0 0 0 0 0 0 0\n",
      "I0123 13:57:29.868245 140674925967168 law_classifier.py:536] segment_ids: 0 0 0 0 0 0 0 0 0 0 0 0 0 0 0 0 0 0 0 0 0 0 0 0 0 0 0 0 0 0 0 0 0 0 0 0 0 0 0 0 0 0 0 0 0 0 0 0 0 0 0 0 0 0 0 0 0 0 0 0 0 0 0 0 0 0 0 0 0 0 0 0 0 0 0 0 0 0 0 0 0 0 0 0 0 0 0 0 0 0 0 0 0 0 0 0 0 0 0 0 0 0 0 0 0 0 0 0 0 0 0 0 0 0 0 0 0 0 0 0 0 0 0 0 0 0 0 0\n",
      "INFO:tensorflow:label: family (id = 1)\n",
      "I0123 13:57:29.868290 140674925967168 law_classifier.py:537] label: family (id = 1)\n",
      "INFO:tensorflow:*** Example ***\n",
      "I0123 13:57:29.868684 140674925967168 law_classifier.py:530] *** Example ***\n",
      "INFO:tensorflow:guid: test-4\n",
      "I0123 13:57:29.868764 140674925967168 law_classifier.py:531] guid: test-4\n",
      "INFO:tensorflow:tokens: [CLS] ▁การ รับ โอน มรดก ชื่อ พ่อ [SEP]\n",
      "I0123 13:57:29.868849 140674925967168 law_classifier.py:533] tokens: [CLS] ▁การ รับ โอน มรดก ชื่อ พ่อ [SEP]\n",
      "INFO:tensorflow:input_ids: 1 470 205 3665 2065 136 2565 2 0 0 0 0 0 0 0 0 0 0 0 0 0 0 0 0 0 0 0 0 0 0 0 0 0 0 0 0 0 0 0 0 0 0 0 0 0 0 0 0 0 0 0 0 0 0 0 0 0 0 0 0 0 0 0 0 0 0 0 0 0 0 0 0 0 0 0 0 0 0 0 0 0 0 0 0 0 0 0 0 0 0 0 0 0 0 0 0 0 0 0 0 0 0 0 0 0 0 0 0 0 0 0 0 0 0 0 0 0 0 0 0 0 0 0 0 0 0 0 0\n",
      "I0123 13:57:29.868916 140674925967168 law_classifier.py:534] input_ids: 1 470 205 3665 2065 136 2565 2 0 0 0 0 0 0 0 0 0 0 0 0 0 0 0 0 0 0 0 0 0 0 0 0 0 0 0 0 0 0 0 0 0 0 0 0 0 0 0 0 0 0 0 0 0 0 0 0 0 0 0 0 0 0 0 0 0 0 0 0 0 0 0 0 0 0 0 0 0 0 0 0 0 0 0 0 0 0 0 0 0 0 0 0 0 0 0 0 0 0 0 0 0 0 0 0 0 0 0 0 0 0 0 0 0 0 0 0 0 0 0 0 0 0 0 0 0 0 0 0\n",
      "INFO:tensorflow:input_mask: 1 1 1 1 1 1 1 1 0 0 0 0 0 0 0 0 0 0 0 0 0 0 0 0 0 0 0 0 0 0 0 0 0 0 0 0 0 0 0 0 0 0 0 0 0 0 0 0 0 0 0 0 0 0 0 0 0 0 0 0 0 0 0 0 0 0 0 0 0 0 0 0 0 0 0 0 0 0 0 0 0 0 0 0 0 0 0 0 0 0 0 0 0 0 0 0 0 0 0 0 0 0 0 0 0 0 0 0 0 0 0 0 0 0 0 0 0 0 0 0 0 0 0 0 0 0 0 0\n",
      "I0123 13:57:29.868983 140674925967168 law_classifier.py:535] input_mask: 1 1 1 1 1 1 1 1 0 0 0 0 0 0 0 0 0 0 0 0 0 0 0 0 0 0 0 0 0 0 0 0 0 0 0 0 0 0 0 0 0 0 0 0 0 0 0 0 0 0 0 0 0 0 0 0 0 0 0 0 0 0 0 0 0 0 0 0 0 0 0 0 0 0 0 0 0 0 0 0 0 0 0 0 0 0 0 0 0 0 0 0 0 0 0 0 0 0 0 0 0 0 0 0 0 0 0 0 0 0 0 0 0 0 0 0 0 0 0 0 0 0 0 0 0 0 0 0\n",
      "INFO:tensorflow:segment_ids: 0 0 0 0 0 0 0 0 0 0 0 0 0 0 0 0 0 0 0 0 0 0 0 0 0 0 0 0 0 0 0 0 0 0 0 0 0 0 0 0 0 0 0 0 0 0 0 0 0 0 0 0 0 0 0 0 0 0 0 0 0 0 0 0 0 0 0 0 0 0 0 0 0 0 0 0 0 0 0 0 0 0 0 0 0 0 0 0 0 0 0 0 0 0 0 0 0 0 0 0 0 0 0 0 0 0 0 0 0 0 0 0 0 0 0 0 0 0 0 0 0 0 0 0 0 0 0 0\n",
      "I0123 13:57:29.869046 140674925967168 law_classifier.py:536] segment_ids: 0 0 0 0 0 0 0 0 0 0 0 0 0 0 0 0 0 0 0 0 0 0 0 0 0 0 0 0 0 0 0 0 0 0 0 0 0 0 0 0 0 0 0 0 0 0 0 0 0 0 0 0 0 0 0 0 0 0 0 0 0 0 0 0 0 0 0 0 0 0 0 0 0 0 0 0 0 0 0 0 0 0 0 0 0 0 0 0 0 0 0 0 0 0 0 0 0 0 0 0 0 0 0 0 0 0 0 0 0 0 0 0 0 0 0 0 0 0 0 0 0 0 0 0 0 0 0 0\n",
      "INFO:tensorflow:label: family (id = 1)\n",
      "I0123 13:57:29.869091 140674925967168 law_classifier.py:537] label: family (id = 1)\n",
      "INFO:tensorflow:*** Example ***\n",
      "I0123 13:57:29.881726 140674925967168 law_classifier.py:530] *** Example ***\n",
      "INFO:tensorflow:guid: test-5\n",
      "I0123 13:57:29.881819 140674925967168 law_classifier.py:531] guid: test-5\n",
      "INFO:tensorflow:tokens: [CLS] ▁ ข้อส อบ ถาม หน ่อย นะ คะ พอดี โดน ข้อ ห าล ัก ทรัพย์ กับ ห้างสรรพสินค้า แห่งหนึ่ง โดย ได้ทําการ ลัก กระเป ๋ ามา ใบ เป็นจํานวน เงิน บาท แต่ ถูก ทาง ห้าง จับ ได้ แล้วนํา ตัวไป สอบสวน จาก นั้น ให้ เขียน ประวัติ ของตัวเอง ถ่าย สํา เนา บัตร ประจําตัว ประชาชน แล้ว ก็ ถ่ายรูป ทุกอย่าง เป็น หลักฐาน พร้อม ทั้ง ให้ เขียน สํานวน ใน คดี ลัก ทรัพย์ ซึ่งได้ ยอมรับ ทุก ข้อก ล ่าว หาว่า เป็น ความจริง สาร ภาพ ทุกอย่าง จาก นั้น ทาง ห้าง ก็ได้ ให้ ญาติ มารับ ตัว พร้อมกับ จ่าย ค่า เสียหาย สินค้า ที่ได้ ขโมย ไป อย ากร ู้ ว่า ทาง ห้าง จะ ดําเนิน คดี กับ เรา อย่างไร ต่อไป คะ แล้ว ประวัติ ของเรา ที่เขียน ไป นั้นจะ ทํา อย่างไร ต่อ ถ้า เก็บ ไว้ จะมี อายุ ความ กี่ ปี จะ กระทบ [SEP]\n",
      "I0123 13:57:29.881896 140674925967168 law_classifier.py:533] tokens: [CLS] ▁ ข้อส อบ ถาม หน ่อย นะ คะ พอดี โดน ข้อ ห าล ัก ทรัพย์ กับ ห้างสรรพสินค้า แห่งหนึ่ง โดย ได้ทําการ ลัก กระเป ๋ ามา ใบ เป็นจํานวน เงิน บาท แต่ ถูก ทาง ห้าง จับ ได้ แล้วนํา ตัวไป สอบสวน จาก นั้น ให้ เขียน ประวัติ ของตัวเอง ถ่าย สํา เนา บัตร ประจําตัว ประชาชน แล้ว ก็ ถ่ายรูป ทุกอย่าง เป็น หลักฐาน พร้อม ทั้ง ให้ เขียน สํานวน ใน คดี ลัก ทรัพย์ ซึ่งได้ ยอมรับ ทุก ข้อก ล ่าว หาว่า เป็น ความจริง สาร ภาพ ทุกอย่าง จาก นั้น ทาง ห้าง ก็ได้ ให้ ญาติ มารับ ตัว พร้อมกับ จ่าย ค่า เสียหาย สินค้า ที่ได้ ขโมย ไป อย ากร ู้ ว่า ทาง ห้าง จะ ดําเนิน คดี กับ เรา อย่างไร ต่อไป คะ แล้ว ประวัติ ของเรา ที่เขียน ไป นั้นจะ ทํา อย่างไร ต่อ ถ้า เก็บ ไว้ จะมี อายุ ความ กี่ ปี จะ กระทบ [SEP]\n",
      "INFO:tensorflow:input_ids: 1 24719 12522 171 4845 57 718 1512 1468 12947 6410 1577 24745 122 39 2709 104 20017 5133 77 11963 3722 14249 24821 1215 941 14999 1289 1204 340 410 107 10618 2036 61 15416 9162 17244 80 489 166 793 1434 7358 1864 315 7213 4937 11367 1565 559 606 23375 11830 38 4636 2336 243 166 793 14283 17 2724 3722 2709 19421 3814 986 9693 24732 671 16639 38 9441 581 167 11830 80 489 107 10618 2807 166 6080 8978 231 4347 4836 1407 6285 3038 2264 12659 157 66 597 111 121 107 10618 177 1779 2724 104 3267 12190 1552 1468 559 1434 11920 5424 157 10821 212 12190 275 5123 2466 1135 1402 1397 165 6803 89 177 6463 2\n",
      "I0123 13:57:29.881996 140674925967168 law_classifier.py:534] input_ids: 1 24719 12522 171 4845 57 718 1512 1468 12947 6410 1577 24745 122 39 2709 104 20017 5133 77 11963 3722 14249 24821 1215 941 14999 1289 1204 340 410 107 10618 2036 61 15416 9162 17244 80 489 166 793 1434 7358 1864 315 7213 4937 11367 1565 559 606 23375 11830 38 4636 2336 243 166 793 14283 17 2724 3722 2709 19421 3814 986 9693 24732 671 16639 38 9441 581 167 11830 80 489 107 10618 2807 166 6080 8978 231 4347 4836 1407 6285 3038 2264 12659 157 66 597 111 121 107 10618 177 1779 2724 104 3267 12190 1552 1468 559 1434 11920 5424 157 10821 212 12190 275 5123 2466 1135 1402 1397 165 6803 89 177 6463 2\n",
      "INFO:tensorflow:input_mask: 1 1 1 1 1 1 1 1 1 1 1 1 1 1 1 1 1 1 1 1 1 1 1 1 1 1 1 1 1 1 1 1 1 1 1 1 1 1 1 1 1 1 1 1 1 1 1 1 1 1 1 1 1 1 1 1 1 1 1 1 1 1 1 1 1 1 1 1 1 1 1 1 1 1 1 1 1 1 1 1 1 1 1 1 1 1 1 1 1 1 1 1 1 1 1 1 1 1 1 1 1 1 1 1 1 1 1 1 1 1 1 1 1 1 1 1 1 1 1 1 1 1 1 1 1 1 1 1\n",
      "I0123 13:57:29.882070 140674925967168 law_classifier.py:535] input_mask: 1 1 1 1 1 1 1 1 1 1 1 1 1 1 1 1 1 1 1 1 1 1 1 1 1 1 1 1 1 1 1 1 1 1 1 1 1 1 1 1 1 1 1 1 1 1 1 1 1 1 1 1 1 1 1 1 1 1 1 1 1 1 1 1 1 1 1 1 1 1 1 1 1 1 1 1 1 1 1 1 1 1 1 1 1 1 1 1 1 1 1 1 1 1 1 1 1 1 1 1 1 1 1 1 1 1 1 1 1 1 1 1 1 1 1 1 1 1 1 1 1 1 1 1 1 1 1 1\n",
      "INFO:tensorflow:segment_ids: 0 0 0 0 0 0 0 0 0 0 0 0 0 0 0 0 0 0 0 0 0 0 0 0 0 0 0 0 0 0 0 0 0 0 0 0 0 0 0 0 0 0 0 0 0 0 0 0 0 0 0 0 0 0 0 0 0 0 0 0 0 0 0 0 0 0 0 0 0 0 0 0 0 0 0 0 0 0 0 0 0 0 0 0 0 0 0 0 0 0 0 0 0 0 0 0 0 0 0 0 0 0 0 0 0 0 0 0 0 0 0 0 0 0 0 0 0 0 0 0 0 0 0 0 0 0 0 0\n",
      "I0123 13:57:29.882134 140674925967168 law_classifier.py:536] segment_ids: 0 0 0 0 0 0 0 0 0 0 0 0 0 0 0 0 0 0 0 0 0 0 0 0 0 0 0 0 0 0 0 0 0 0 0 0 0 0 0 0 0 0 0 0 0 0 0 0 0 0 0 0 0 0 0 0 0 0 0 0 0 0 0 0 0 0 0 0 0 0 0 0 0 0 0 0 0 0 0 0 0 0 0 0 0 0 0 0 0 0 0 0 0 0 0 0 0 0 0 0 0 0 0 0 0 0 0 0 0 0 0 0 0 0 0 0 0 0 0 0 0 0 0 0 0 0 0 0\n",
      "INFO:tensorflow:label: family (id = 1)\n",
      "I0123 13:57:29.882179 140674925967168 law_classifier.py:537] label: family (id = 1)\n",
      "INFO:tensorflow:***** Running prediction*****\n",
      "I0123 13:57:46.162699 140674925967168 law_classifier.py:1023] ***** Running prediction*****\n",
      "INFO:tensorflow:  Num examples = 2109\n",
      "I0123 13:57:46.162866 140674925967168 law_classifier.py:1024]   Num examples = 2109\n",
      "INFO:tensorflow:  Batch size = 8\n",
      "I0123 13:57:46.163048 140674925967168 law_classifier.py:1025]   Batch size = 8\n",
      "WARNING:tensorflow:From bert/law_classifier.py:581: The name tf.FixedLenFeature is deprecated. Please use tf.io.FixedLenFeature instead.\n",
      "\n",
      "W0123 13:57:46.163182 140674925967168 module_wrapper.py:139] From bert/law_classifier.py:581: The name tf.FixedLenFeature is deprecated. Please use tf.io.FixedLenFeature instead.\n",
      "\n",
      "INFO:tensorflow:***** Predict results *****\n",
      "I0123 13:57:46.163298 140674925967168 law_classifier.py:1045] ***** Predict results *****\n",
      "INFO:tensorflow:Could not find trained model in model_dir: output_predict2, running initialization to predict.\n",
      "I0123 13:57:46.163626 140674925967168 estimator.py:615] Could not find trained model in model_dir: output_predict2, running initialization to predict.\n",
      "WARNING:tensorflow:From /opt/conda/lib/python3.7/site-packages/tensorflow_core/python/ops/resource_variable_ops.py:1630: calling BaseResourceVariable.__init__ (from tensorflow.python.ops.resource_variable_ops) with constraint is deprecated and will be removed in a future version.\n",
      "Instructions for updating:\n",
      "If using Keras pass *_constraint arguments to layers.\n",
      "W0123 13:57:46.170173 140674925967168 deprecation.py:506] From /opt/conda/lib/python3.7/site-packages/tensorflow_core/python/ops/resource_variable_ops.py:1630: calling BaseResourceVariable.__init__ (from tensorflow.python.ops.resource_variable_ops) with constraint is deprecated and will be removed in a future version.\n",
      "Instructions for updating:\n",
      "If using Keras pass *_constraint arguments to layers.\n",
      "WARNING:tensorflow:From bert/law_classifier.py:616: map_and_batch (from tensorflow.contrib.data.python.ops.batching) is deprecated and will be removed in a future version.\n",
      "Instructions for updating:\n",
      "Use `tf.data.experimental.map_and_batch(...)`.\n",
      "W0123 13:57:46.185888 140674925967168 deprecation.py:323] From bert/law_classifier.py:616: map_and_batch (from tensorflow.contrib.data.python.ops.batching) is deprecated and will be removed in a future version.\n",
      "Instructions for updating:\n",
      "Use `tf.data.experimental.map_and_batch(...)`.\n",
      "WARNING:tensorflow:From /opt/conda/lib/python3.7/site-packages/tensorflow_core/contrib/data/python/ops/batching.py:276: map_and_batch (from tensorflow.python.data.experimental.ops.batching) is deprecated and will be removed in a future version.\n",
      "Instructions for updating:\n",
      "Use `tf.data.Dataset.map(map_func, num_parallel_calls)` followed by `tf.data.Dataset.batch(batch_size, drop_remainder)`. Static tf.data optimizations will take care of using the fused implementation.\n",
      "W0123 13:57:46.186037 140674925967168 deprecation.py:323] From /opt/conda/lib/python3.7/site-packages/tensorflow_core/contrib/data/python/ops/batching.py:276: map_and_batch (from tensorflow.python.data.experimental.ops.batching) is deprecated and will be removed in a future version.\n",
      "Instructions for updating:\n",
      "Use `tf.data.Dataset.map(map_func, num_parallel_calls)` followed by `tf.data.Dataset.batch(batch_size, drop_remainder)`. Static tf.data optimizations will take care of using the fused implementation.\n",
      "WARNING:tensorflow:From /opt/conda/lib/python3.7/site-packages/tensorflow_core/python/autograph/converters/directives.py:119: The name tf.parse_single_example is deprecated. Please use tf.io.parse_single_example instead.\n",
      "\n",
      "W0123 13:57:46.241840 140674925967168 module_wrapper.py:139] From /opt/conda/lib/python3.7/site-packages/tensorflow_core/python/autograph/converters/directives.py:119: The name tf.parse_single_example is deprecated. Please use tf.io.parse_single_example instead.\n",
      "\n",
      "WARNING:tensorflow:From bert/law_classifier.py:596: to_int32 (from tensorflow.python.ops.math_ops) is deprecated and will be removed in a future version.\n",
      "Instructions for updating:\n",
      "Use `tf.cast` instead.\n",
      "W0123 13:57:46.325631 140674925967168 deprecation.py:323] From bert/law_classifier.py:596: to_int32 (from tensorflow.python.ops.math_ops) is deprecated and will be removed in a future version.\n",
      "Instructions for updating:\n",
      "Use `tf.cast` instead.\n",
      "INFO:tensorflow:Calling model_fn.\n",
      "I0123 13:57:46.336562 140674925967168 estimator.py:1148] Calling model_fn.\n",
      "INFO:tensorflow:Running infer on CPU\n",
      "I0123 13:57:46.336713 140674925967168 tpu_estimator.py:3124] Running infer on CPU\n",
      "INFO:tensorflow:*** Features ***\n",
      "I0123 13:57:46.336985 140674925967168 law_classifier.py:693] *** Features ***\n",
      "INFO:tensorflow:  name = input_ids, shape = (?, 128)\n",
      "I0123 13:57:46.337093 140674925967168 law_classifier.py:695]   name = input_ids, shape = (?, 128)\n",
      "INFO:tensorflow:  name = input_mask, shape = (?, 128)\n",
      "I0123 13:57:46.337166 140674925967168 law_classifier.py:695]   name = input_mask, shape = (?, 128)\n",
      "INFO:tensorflow:  name = label_ids, shape = (?,)\n",
      "I0123 13:57:46.337230 140674925967168 law_classifier.py:695]   name = label_ids, shape = (?,)\n",
      "INFO:tensorflow:  name = segment_ids, shape = (?, 128)\n",
      "I0123 13:57:46.337292 140674925967168 law_classifier.py:695]   name = segment_ids, shape = (?, 128)\n",
      "WARNING:tensorflow:From /home/jupyter/bert_finetuning/bert/modeling.py:172: The name tf.variable_scope is deprecated. Please use tf.compat.v1.variable_scope instead.\n",
      "\n",
      "W0123 13:57:46.339661 140674925967168 module_wrapper.py:139] From /home/jupyter/bert_finetuning/bert/modeling.py:172: The name tf.variable_scope is deprecated. Please use tf.compat.v1.variable_scope instead.\n",
      "\n",
      "WARNING:tensorflow:From /home/jupyter/bert_finetuning/bert/modeling.py:411: The name tf.get_variable is deprecated. Please use tf.compat.v1.get_variable instead.\n",
      "\n",
      "W0123 13:57:46.340750 140674925967168 module_wrapper.py:139] From /home/jupyter/bert_finetuning/bert/modeling.py:411: The name tf.get_variable is deprecated. Please use tf.compat.v1.get_variable instead.\n",
      "\n",
      "WARNING:tensorflow:From /home/jupyter/bert_finetuning/bert/modeling.py:680: dense (from tensorflow.python.layers.core) is deprecated and will be removed in a future version.\n",
      "Instructions for updating:\n",
      "Use keras.layers.Dense instead.\n",
      "W0123 13:57:46.402619 140674925967168 deprecation.py:323] From /home/jupyter/bert_finetuning/bert/modeling.py:680: dense (from tensorflow.python.layers.core) is deprecated and will be removed in a future version.\n",
      "Instructions for updating:\n",
      "Use keras.layers.Dense instead.\n",
      "WARNING:tensorflow:From /opt/conda/lib/python3.7/site-packages/tensorflow_core/python/layers/core.py:187: Layer.apply (from tensorflow.python.keras.engine.base_layer) is deprecated and will be removed in a future version.\n",
      "Instructions for updating:\n",
      "Please use `layer.__call__` method instead.\n",
      "W0123 13:57:46.403153 140674925967168 deprecation.py:323] From /opt/conda/lib/python3.7/site-packages/tensorflow_core/python/layers/core.py:187: Layer.apply (from tensorflow.python.keras.engine.base_layer) is deprecated and will be removed in a future version.\n",
      "Instructions for updating:\n",
      "Please use `layer.__call__` method instead.\n",
      "WARNING:tensorflow:From /home/jupyter/bert_finetuning/bert/modeling.py:277: The name tf.erf is deprecated. Please use tf.math.erf instead.\n",
      "\n",
      "W0123 13:57:46.481572 140674925967168 module_wrapper.py:139] From /home/jupyter/bert_finetuning/bert/modeling.py:277: The name tf.erf is deprecated. Please use tf.math.erf instead.\n",
      "\n",
      "WARNING:tensorflow:From bert/law_classifier.py:708: The name tf.trainable_variables is deprecated. Please use tf.compat.v1.trainable_variables instead.\n",
      "\n",
      "W0123 13:57:47.741535 140674925967168 module_wrapper.py:139] From bert/law_classifier.py:708: The name tf.trainable_variables is deprecated. Please use tf.compat.v1.trainable_variables instead.\n",
      "\n",
      "WARNING:tensorflow:From bert/law_classifier.py:722: The name tf.train.init_from_checkpoint is deprecated. Please use tf.compat.v1.train.init_from_checkpoint instead.\n",
      "\n",
      "W0123 13:57:47.745567 140674925967168 module_wrapper.py:139] From bert/law_classifier.py:722: The name tf.train.init_from_checkpoint is deprecated. Please use tf.compat.v1.train.init_from_checkpoint instead.\n",
      "\n",
      "INFO:tensorflow:**** Trainable Variables ****\n",
      "I0123 13:57:48.301690 140674925967168 law_classifier.py:724] **** Trainable Variables ****\n",
      "INFO:tensorflow:  name = bert/embeddings/word_embeddings:0, shape = (25004, 768), *INIT_FROM_CKPT*\n",
      "I0123 13:57:48.301911 140674925967168 law_classifier.py:730]   name = bert/embeddings/word_embeddings:0, shape = (25004, 768), *INIT_FROM_CKPT*\n",
      "INFO:tensorflow:  name = bert/embeddings/token_type_embeddings:0, shape = (2, 768), *INIT_FROM_CKPT*\n",
      "I0123 13:57:48.302073 140674925967168 law_classifier.py:730]   name = bert/embeddings/token_type_embeddings:0, shape = (2, 768), *INIT_FROM_CKPT*\n",
      "INFO:tensorflow:  name = bert/embeddings/position_embeddings:0, shape = (512, 768), *INIT_FROM_CKPT*\n",
      "I0123 13:57:48.302183 140674925967168 law_classifier.py:730]   name = bert/embeddings/position_embeddings:0, shape = (512, 768), *INIT_FROM_CKPT*\n",
      "INFO:tensorflow:  name = bert/embeddings/LayerNorm/beta:0, shape = (768,), *INIT_FROM_CKPT*\n",
      "I0123 13:57:48.302312 140674925967168 law_classifier.py:730]   name = bert/embeddings/LayerNorm/beta:0, shape = (768,), *INIT_FROM_CKPT*\n",
      "INFO:tensorflow:  name = bert/embeddings/LayerNorm/gamma:0, shape = (768,), *INIT_FROM_CKPT*\n",
      "I0123 13:57:48.302407 140674925967168 law_classifier.py:730]   name = bert/embeddings/LayerNorm/gamma:0, shape = (768,), *INIT_FROM_CKPT*\n",
      "INFO:tensorflow:  name = bert/encoder/layer_0/attention/self/query/kernel:0, shape = (768, 768), *INIT_FROM_CKPT*\n",
      "I0123 13:57:48.302494 140674925967168 law_classifier.py:730]   name = bert/encoder/layer_0/attention/self/query/kernel:0, shape = (768, 768), *INIT_FROM_CKPT*\n",
      "INFO:tensorflow:  name = bert/encoder/layer_0/attention/self/query/bias:0, shape = (768,), *INIT_FROM_CKPT*\n",
      "I0123 13:57:48.302589 140674925967168 law_classifier.py:730]   name = bert/encoder/layer_0/attention/self/query/bias:0, shape = (768,), *INIT_FROM_CKPT*\n",
      "INFO:tensorflow:  name = bert/encoder/layer_0/attention/self/key/kernel:0, shape = (768, 768), *INIT_FROM_CKPT*\n",
      "I0123 13:57:48.302674 140674925967168 law_classifier.py:730]   name = bert/encoder/layer_0/attention/self/key/kernel:0, shape = (768, 768), *INIT_FROM_CKPT*\n",
      "INFO:tensorflow:  name = bert/encoder/layer_0/attention/self/key/bias:0, shape = (768,), *INIT_FROM_CKPT*\n",
      "I0123 13:57:48.302769 140674925967168 law_classifier.py:730]   name = bert/encoder/layer_0/attention/self/key/bias:0, shape = (768,), *INIT_FROM_CKPT*\n",
      "INFO:tensorflow:  name = bert/encoder/layer_0/attention/self/value/kernel:0, shape = (768, 768), *INIT_FROM_CKPT*\n",
      "I0123 13:57:48.302857 140674925967168 law_classifier.py:730]   name = bert/encoder/layer_0/attention/self/value/kernel:0, shape = (768, 768), *INIT_FROM_CKPT*\n",
      "INFO:tensorflow:  name = bert/encoder/layer_0/attention/self/value/bias:0, shape = (768,), *INIT_FROM_CKPT*\n",
      "I0123 13:57:48.302946 140674925967168 law_classifier.py:730]   name = bert/encoder/layer_0/attention/self/value/bias:0, shape = (768,), *INIT_FROM_CKPT*\n",
      "INFO:tensorflow:  name = bert/encoder/layer_0/attention/output/dense/kernel:0, shape = (768, 768), *INIT_FROM_CKPT*\n",
      "I0123 13:57:48.303030 140674925967168 law_classifier.py:730]   name = bert/encoder/layer_0/attention/output/dense/kernel:0, shape = (768, 768), *INIT_FROM_CKPT*\n",
      "INFO:tensorflow:  name = bert/encoder/layer_0/attention/output/dense/bias:0, shape = (768,), *INIT_FROM_CKPT*\n",
      "I0123 13:57:48.303120 140674925967168 law_classifier.py:730]   name = bert/encoder/layer_0/attention/output/dense/bias:0, shape = (768,), *INIT_FROM_CKPT*\n",
      "INFO:tensorflow:  name = bert/encoder/layer_0/attention/output/LayerNorm/beta:0, shape = (768,), *INIT_FROM_CKPT*\n",
      "I0123 13:57:48.303215 140674925967168 law_classifier.py:730]   name = bert/encoder/layer_0/attention/output/LayerNorm/beta:0, shape = (768,), *INIT_FROM_CKPT*\n",
      "INFO:tensorflow:  name = bert/encoder/layer_0/attention/output/LayerNorm/gamma:0, shape = (768,), *INIT_FROM_CKPT*\n",
      "I0123 13:57:48.303298 140674925967168 law_classifier.py:730]   name = bert/encoder/layer_0/attention/output/LayerNorm/gamma:0, shape = (768,), *INIT_FROM_CKPT*\n",
      "INFO:tensorflow:  name = bert/encoder/layer_0/intermediate/dense/kernel:0, shape = (768, 3072), *INIT_FROM_CKPT*\n",
      "I0123 13:57:48.303376 140674925967168 law_classifier.py:730]   name = bert/encoder/layer_0/intermediate/dense/kernel:0, shape = (768, 3072), *INIT_FROM_CKPT*\n",
      "INFO:tensorflow:  name = bert/encoder/layer_0/intermediate/dense/bias:0, shape = (3072,), *INIT_FROM_CKPT*\n",
      "I0123 13:57:48.303459 140674925967168 law_classifier.py:730]   name = bert/encoder/layer_0/intermediate/dense/bias:0, shape = (3072,), *INIT_FROM_CKPT*\n",
      "INFO:tensorflow:  name = bert/encoder/layer_0/output/dense/kernel:0, shape = (3072, 768), *INIT_FROM_CKPT*\n",
      "I0123 13:57:48.303538 140674925967168 law_classifier.py:730]   name = bert/encoder/layer_0/output/dense/kernel:0, shape = (3072, 768), *INIT_FROM_CKPT*\n",
      "INFO:tensorflow:  name = bert/encoder/layer_0/output/dense/bias:0, shape = (768,), *INIT_FROM_CKPT*\n",
      "I0123 13:57:48.303621 140674925967168 law_classifier.py:730]   name = bert/encoder/layer_0/output/dense/bias:0, shape = (768,), *INIT_FROM_CKPT*\n",
      "INFO:tensorflow:  name = bert/encoder/layer_0/output/LayerNorm/beta:0, shape = (768,), *INIT_FROM_CKPT*\n",
      "I0123 13:57:48.303699 140674925967168 law_classifier.py:730]   name = bert/encoder/layer_0/output/LayerNorm/beta:0, shape = (768,), *INIT_FROM_CKPT*\n",
      "INFO:tensorflow:  name = bert/encoder/layer_0/output/LayerNorm/gamma:0, shape = (768,), *INIT_FROM_CKPT*\n",
      "I0123 13:57:48.303777 140674925967168 law_classifier.py:730]   name = bert/encoder/layer_0/output/LayerNorm/gamma:0, shape = (768,), *INIT_FROM_CKPT*\n",
      "INFO:tensorflow:  name = bert/encoder/layer_1/attention/self/query/kernel:0, shape = (768, 768), *INIT_FROM_CKPT*\n",
      "I0123 13:57:48.303863 140674925967168 law_classifier.py:730]   name = bert/encoder/layer_1/attention/self/query/kernel:0, shape = (768, 768), *INIT_FROM_CKPT*\n",
      "INFO:tensorflow:  name = bert/encoder/layer_1/attention/self/query/bias:0, shape = (768,), *INIT_FROM_CKPT*\n",
      "I0123 13:57:48.303955 140674925967168 law_classifier.py:730]   name = bert/encoder/layer_1/attention/self/query/bias:0, shape = (768,), *INIT_FROM_CKPT*\n",
      "INFO:tensorflow:  name = bert/encoder/layer_1/attention/self/key/kernel:0, shape = (768, 768), *INIT_FROM_CKPT*\n",
      "I0123 13:57:48.304034 140674925967168 law_classifier.py:730]   name = bert/encoder/layer_1/attention/self/key/kernel:0, shape = (768, 768), *INIT_FROM_CKPT*\n",
      "INFO:tensorflow:  name = bert/encoder/layer_1/attention/self/key/bias:0, shape = (768,), *INIT_FROM_CKPT*\n",
      "I0123 13:57:48.304116 140674925967168 law_classifier.py:730]   name = bert/encoder/layer_1/attention/self/key/bias:0, shape = (768,), *INIT_FROM_CKPT*\n",
      "INFO:tensorflow:  name = bert/encoder/layer_1/attention/self/value/kernel:0, shape = (768, 768), *INIT_FROM_CKPT*\n",
      "I0123 13:57:48.304195 140674925967168 law_classifier.py:730]   name = bert/encoder/layer_1/attention/self/value/kernel:0, shape = (768, 768), *INIT_FROM_CKPT*\n",
      "INFO:tensorflow:  name = bert/encoder/layer_1/attention/self/value/bias:0, shape = (768,), *INIT_FROM_CKPT*\n",
      "I0123 13:57:48.304282 140674925967168 law_classifier.py:730]   name = bert/encoder/layer_1/attention/self/value/bias:0, shape = (768,), *INIT_FROM_CKPT*\n",
      "INFO:tensorflow:  name = bert/encoder/layer_1/attention/output/dense/kernel:0, shape = (768, 768), *INIT_FROM_CKPT*\n",
      "I0123 13:57:48.304367 140674925967168 law_classifier.py:730]   name = bert/encoder/layer_1/attention/output/dense/kernel:0, shape = (768, 768), *INIT_FROM_CKPT*\n",
      "INFO:tensorflow:  name = bert/encoder/layer_1/attention/output/dense/bias:0, shape = (768,), *INIT_FROM_CKPT*\n",
      "I0123 13:57:48.304486 140674925967168 law_classifier.py:730]   name = bert/encoder/layer_1/attention/output/dense/bias:0, shape = (768,), *INIT_FROM_CKPT*\n",
      "INFO:tensorflow:  name = bert/encoder/layer_1/attention/output/LayerNorm/beta:0, shape = (768,), *INIT_FROM_CKPT*\n",
      "I0123 13:57:48.304581 140674925967168 law_classifier.py:730]   name = bert/encoder/layer_1/attention/output/LayerNorm/beta:0, shape = (768,), *INIT_FROM_CKPT*\n",
      "INFO:tensorflow:  name = bert/encoder/layer_1/attention/output/LayerNorm/gamma:0, shape = (768,), *INIT_FROM_CKPT*\n",
      "I0123 13:57:48.304673 140674925967168 law_classifier.py:730]   name = bert/encoder/layer_1/attention/output/LayerNorm/gamma:0, shape = (768,), *INIT_FROM_CKPT*\n",
      "INFO:tensorflow:  name = bert/encoder/layer_1/intermediate/dense/kernel:0, shape = (768, 3072), *INIT_FROM_CKPT*\n",
      "I0123 13:57:48.304766 140674925967168 law_classifier.py:730]   name = bert/encoder/layer_1/intermediate/dense/kernel:0, shape = (768, 3072), *INIT_FROM_CKPT*\n",
      "INFO:tensorflow:  name = bert/encoder/layer_1/intermediate/dense/bias:0, shape = (3072,), *INIT_FROM_CKPT*\n",
      "I0123 13:57:48.304867 140674925967168 law_classifier.py:730]   name = bert/encoder/layer_1/intermediate/dense/bias:0, shape = (3072,), *INIT_FROM_CKPT*\n",
      "INFO:tensorflow:  name = bert/encoder/layer_1/output/dense/kernel:0, shape = (3072, 768), *INIT_FROM_CKPT*\n",
      "I0123 13:57:48.304960 140674925967168 law_classifier.py:730]   name = bert/encoder/layer_1/output/dense/kernel:0, shape = (3072, 768), *INIT_FROM_CKPT*\n",
      "INFO:tensorflow:  name = bert/encoder/layer_1/output/dense/bias:0, shape = (768,), *INIT_FROM_CKPT*\n",
      "I0123 13:57:48.305073 140674925967168 law_classifier.py:730]   name = bert/encoder/layer_1/output/dense/bias:0, shape = (768,), *INIT_FROM_CKPT*\n",
      "INFO:tensorflow:  name = bert/encoder/layer_1/output/LayerNorm/beta:0, shape = (768,), *INIT_FROM_CKPT*\n",
      "I0123 13:57:48.305145 140674925967168 law_classifier.py:730]   name = bert/encoder/layer_1/output/LayerNorm/beta:0, shape = (768,), *INIT_FROM_CKPT*\n",
      "INFO:tensorflow:  name = bert/encoder/layer_1/output/LayerNorm/gamma:0, shape = (768,), *INIT_FROM_CKPT*\n",
      "I0123 13:57:48.305210 140674925967168 law_classifier.py:730]   name = bert/encoder/layer_1/output/LayerNorm/gamma:0, shape = (768,), *INIT_FROM_CKPT*\n",
      "INFO:tensorflow:  name = bert/encoder/layer_2/attention/self/query/kernel:0, shape = (768, 768), *INIT_FROM_CKPT*\n",
      "I0123 13:57:48.305279 140674925967168 law_classifier.py:730]   name = bert/encoder/layer_2/attention/self/query/kernel:0, shape = (768, 768), *INIT_FROM_CKPT*\n",
      "INFO:tensorflow:  name = bert/encoder/layer_2/attention/self/query/bias:0, shape = (768,), *INIT_FROM_CKPT*\n",
      "I0123 13:57:48.305346 140674925967168 law_classifier.py:730]   name = bert/encoder/layer_2/attention/self/query/bias:0, shape = (768,), *INIT_FROM_CKPT*\n",
      "INFO:tensorflow:  name = bert/encoder/layer_2/attention/self/key/kernel:0, shape = (768, 768), *INIT_FROM_CKPT*\n",
      "I0123 13:57:48.305410 140674925967168 law_classifier.py:730]   name = bert/encoder/layer_2/attention/self/key/kernel:0, shape = (768, 768), *INIT_FROM_CKPT*\n",
      "INFO:tensorflow:  name = bert/encoder/layer_2/attention/self/key/bias:0, shape = (768,), *INIT_FROM_CKPT*\n",
      "I0123 13:57:48.305476 140674925967168 law_classifier.py:730]   name = bert/encoder/layer_2/attention/self/key/bias:0, shape = (768,), *INIT_FROM_CKPT*\n",
      "INFO:tensorflow:  name = bert/encoder/layer_2/attention/self/value/kernel:0, shape = (768, 768), *INIT_FROM_CKPT*\n",
      "I0123 13:57:48.305551 140674925967168 law_classifier.py:730]   name = bert/encoder/layer_2/attention/self/value/kernel:0, shape = (768, 768), *INIT_FROM_CKPT*\n",
      "INFO:tensorflow:  name = bert/encoder/layer_2/attention/self/value/bias:0, shape = (768,), *INIT_FROM_CKPT*\n",
      "I0123 13:57:48.305629 140674925967168 law_classifier.py:730]   name = bert/encoder/layer_2/attention/self/value/bias:0, shape = (768,), *INIT_FROM_CKPT*\n",
      "INFO:tensorflow:  name = bert/encoder/layer_2/attention/output/dense/kernel:0, shape = (768, 768), *INIT_FROM_CKPT*\n",
      "I0123 13:57:48.305698 140674925967168 law_classifier.py:730]   name = bert/encoder/layer_2/attention/output/dense/kernel:0, shape = (768, 768), *INIT_FROM_CKPT*\n",
      "INFO:tensorflow:  name = bert/encoder/layer_2/attention/output/dense/bias:0, shape = (768,), *INIT_FROM_CKPT*\n",
      "I0123 13:57:48.305755 140674925967168 law_classifier.py:730]   name = bert/encoder/layer_2/attention/output/dense/bias:0, shape = (768,), *INIT_FROM_CKPT*\n",
      "INFO:tensorflow:  name = bert/encoder/layer_2/attention/output/LayerNorm/beta:0, shape = (768,), *INIT_FROM_CKPT*\n",
      "I0123 13:57:48.305809 140674925967168 law_classifier.py:730]   name = bert/encoder/layer_2/attention/output/LayerNorm/beta:0, shape = (768,), *INIT_FROM_CKPT*\n",
      "INFO:tensorflow:  name = bert/encoder/layer_2/attention/output/LayerNorm/gamma:0, shape = (768,), *INIT_FROM_CKPT*\n",
      "I0123 13:57:48.305862 140674925967168 law_classifier.py:730]   name = bert/encoder/layer_2/attention/output/LayerNorm/gamma:0, shape = (768,), *INIT_FROM_CKPT*\n",
      "INFO:tensorflow:  name = bert/encoder/layer_2/intermediate/dense/kernel:0, shape = (768, 3072), *INIT_FROM_CKPT*\n",
      "I0123 13:57:48.305915 140674925967168 law_classifier.py:730]   name = bert/encoder/layer_2/intermediate/dense/kernel:0, shape = (768, 3072), *INIT_FROM_CKPT*\n",
      "INFO:tensorflow:  name = bert/encoder/layer_2/intermediate/dense/bias:0, shape = (3072,), *INIT_FROM_CKPT*\n",
      "I0123 13:57:48.305972 140674925967168 law_classifier.py:730]   name = bert/encoder/layer_2/intermediate/dense/bias:0, shape = (3072,), *INIT_FROM_CKPT*\n",
      "INFO:tensorflow:  name = bert/encoder/layer_2/output/dense/kernel:0, shape = (3072, 768), *INIT_FROM_CKPT*\n",
      "I0123 13:57:48.306025 140674925967168 law_classifier.py:730]   name = bert/encoder/layer_2/output/dense/kernel:0, shape = (3072, 768), *INIT_FROM_CKPT*\n",
      "INFO:tensorflow:  name = bert/encoder/layer_2/output/dense/bias:0, shape = (768,), *INIT_FROM_CKPT*\n",
      "I0123 13:57:48.306082 140674925967168 law_classifier.py:730]   name = bert/encoder/layer_2/output/dense/bias:0, shape = (768,), *INIT_FROM_CKPT*\n",
      "INFO:tensorflow:  name = bert/encoder/layer_2/output/LayerNorm/beta:0, shape = (768,), *INIT_FROM_CKPT*\n",
      "I0123 13:57:48.306155 140674925967168 law_classifier.py:730]   name = bert/encoder/layer_2/output/LayerNorm/beta:0, shape = (768,), *INIT_FROM_CKPT*\n",
      "INFO:tensorflow:  name = bert/encoder/layer_2/output/LayerNorm/gamma:0, shape = (768,), *INIT_FROM_CKPT*\n",
      "I0123 13:57:48.306212 140674925967168 law_classifier.py:730]   name = bert/encoder/layer_2/output/LayerNorm/gamma:0, shape = (768,), *INIT_FROM_CKPT*\n",
      "INFO:tensorflow:  name = bert/encoder/layer_3/attention/self/query/kernel:0, shape = (768, 768), *INIT_FROM_CKPT*\n",
      "I0123 13:57:48.306289 140674925967168 law_classifier.py:730]   name = bert/encoder/layer_3/attention/self/query/kernel:0, shape = (768, 768), *INIT_FROM_CKPT*\n",
      "INFO:tensorflow:  name = bert/encoder/layer_3/attention/self/query/bias:0, shape = (768,), *INIT_FROM_CKPT*\n",
      "I0123 13:57:48.306351 140674925967168 law_classifier.py:730]   name = bert/encoder/layer_3/attention/self/query/bias:0, shape = (768,), *INIT_FROM_CKPT*\n",
      "INFO:tensorflow:  name = bert/encoder/layer_3/attention/self/key/kernel:0, shape = (768, 768), *INIT_FROM_CKPT*\n",
      "I0123 13:57:48.306408 140674925967168 law_classifier.py:730]   name = bert/encoder/layer_3/attention/self/key/kernel:0, shape = (768, 768), *INIT_FROM_CKPT*\n",
      "INFO:tensorflow:  name = bert/encoder/layer_3/attention/self/key/bias:0, shape = (768,), *INIT_FROM_CKPT*\n",
      "I0123 13:57:48.306468 140674925967168 law_classifier.py:730]   name = bert/encoder/layer_3/attention/self/key/bias:0, shape = (768,), *INIT_FROM_CKPT*\n",
      "INFO:tensorflow:  name = bert/encoder/layer_3/attention/self/value/kernel:0, shape = (768, 768), *INIT_FROM_CKPT*\n",
      "I0123 13:57:48.306525 140674925967168 law_classifier.py:730]   name = bert/encoder/layer_3/attention/self/value/kernel:0, shape = (768, 768), *INIT_FROM_CKPT*\n",
      "INFO:tensorflow:  name = bert/encoder/layer_3/attention/self/value/bias:0, shape = (768,), *INIT_FROM_CKPT*\n",
      "I0123 13:57:48.306585 140674925967168 law_classifier.py:730]   name = bert/encoder/layer_3/attention/self/value/bias:0, shape = (768,), *INIT_FROM_CKPT*\n",
      "INFO:tensorflow:  name = bert/encoder/layer_3/attention/output/dense/kernel:0, shape = (768, 768), *INIT_FROM_CKPT*\n",
      "I0123 13:57:48.306641 140674925967168 law_classifier.py:730]   name = bert/encoder/layer_3/attention/output/dense/kernel:0, shape = (768, 768), *INIT_FROM_CKPT*\n",
      "INFO:tensorflow:  name = bert/encoder/layer_3/attention/output/dense/bias:0, shape = (768,), *INIT_FROM_CKPT*\n",
      "I0123 13:57:48.306701 140674925967168 law_classifier.py:730]   name = bert/encoder/layer_3/attention/output/dense/bias:0, shape = (768,), *INIT_FROM_CKPT*\n",
      "INFO:tensorflow:  name = bert/encoder/layer_3/attention/output/LayerNorm/beta:0, shape = (768,), *INIT_FROM_CKPT*\n",
      "I0123 13:57:48.306758 140674925967168 law_classifier.py:730]   name = bert/encoder/layer_3/attention/output/LayerNorm/beta:0, shape = (768,), *INIT_FROM_CKPT*\n",
      "INFO:tensorflow:  name = bert/encoder/layer_3/attention/output/LayerNorm/gamma:0, shape = (768,), *INIT_FROM_CKPT*\n",
      "I0123 13:57:48.306814 140674925967168 law_classifier.py:730]   name = bert/encoder/layer_3/attention/output/LayerNorm/gamma:0, shape = (768,), *INIT_FROM_CKPT*\n",
      "INFO:tensorflow:  name = bert/encoder/layer_3/intermediate/dense/kernel:0, shape = (768, 3072), *INIT_FROM_CKPT*\n",
      "I0123 13:57:48.306871 140674925967168 law_classifier.py:730]   name = bert/encoder/layer_3/intermediate/dense/kernel:0, shape = (768, 3072), *INIT_FROM_CKPT*\n",
      "INFO:tensorflow:  name = bert/encoder/layer_3/intermediate/dense/bias:0, shape = (3072,), *INIT_FROM_CKPT*\n",
      "I0123 13:57:48.306931 140674925967168 law_classifier.py:730]   name = bert/encoder/layer_3/intermediate/dense/bias:0, shape = (3072,), *INIT_FROM_CKPT*\n",
      "INFO:tensorflow:  name = bert/encoder/layer_3/output/dense/kernel:0, shape = (3072, 768), *INIT_FROM_CKPT*\n",
      "I0123 13:57:48.306988 140674925967168 law_classifier.py:730]   name = bert/encoder/layer_3/output/dense/kernel:0, shape = (3072, 768), *INIT_FROM_CKPT*\n",
      "INFO:tensorflow:  name = bert/encoder/layer_3/output/dense/bias:0, shape = (768,), *INIT_FROM_CKPT*\n",
      "I0123 13:57:48.307062 140674925967168 law_classifier.py:730]   name = bert/encoder/layer_3/output/dense/bias:0, shape = (768,), *INIT_FROM_CKPT*\n",
      "INFO:tensorflow:  name = bert/encoder/layer_3/output/LayerNorm/beta:0, shape = (768,), *INIT_FROM_CKPT*\n",
      "I0123 13:57:48.307117 140674925967168 law_classifier.py:730]   name = bert/encoder/layer_3/output/LayerNorm/beta:0, shape = (768,), *INIT_FROM_CKPT*\n",
      "INFO:tensorflow:  name = bert/encoder/layer_3/output/LayerNorm/gamma:0, shape = (768,), *INIT_FROM_CKPT*\n",
      "I0123 13:57:48.307170 140674925967168 law_classifier.py:730]   name = bert/encoder/layer_3/output/LayerNorm/gamma:0, shape = (768,), *INIT_FROM_CKPT*\n",
      "INFO:tensorflow:  name = bert/encoder/layer_4/attention/self/query/kernel:0, shape = (768, 768), *INIT_FROM_CKPT*\n",
      "I0123 13:57:48.307223 140674925967168 law_classifier.py:730]   name = bert/encoder/layer_4/attention/self/query/kernel:0, shape = (768, 768), *INIT_FROM_CKPT*\n",
      "INFO:tensorflow:  name = bert/encoder/layer_4/attention/self/query/bias:0, shape = (768,), *INIT_FROM_CKPT*\n",
      "I0123 13:57:48.307284 140674925967168 law_classifier.py:730]   name = bert/encoder/layer_4/attention/self/query/bias:0, shape = (768,), *INIT_FROM_CKPT*\n",
      "INFO:tensorflow:  name = bert/encoder/layer_4/attention/self/key/kernel:0, shape = (768, 768), *INIT_FROM_CKPT*\n",
      "I0123 13:57:48.307338 140674925967168 law_classifier.py:730]   name = bert/encoder/layer_4/attention/self/key/kernel:0, shape = (768, 768), *INIT_FROM_CKPT*\n",
      "INFO:tensorflow:  name = bert/encoder/layer_4/attention/self/key/bias:0, shape = (768,), *INIT_FROM_CKPT*\n",
      "I0123 13:57:48.307394 140674925967168 law_classifier.py:730]   name = bert/encoder/layer_4/attention/self/key/bias:0, shape = (768,), *INIT_FROM_CKPT*\n",
      "INFO:tensorflow:  name = bert/encoder/layer_4/attention/self/value/kernel:0, shape = (768, 768), *INIT_FROM_CKPT*\n",
      "I0123 13:57:48.307446 140674925967168 law_classifier.py:730]   name = bert/encoder/layer_4/attention/self/value/kernel:0, shape = (768, 768), *INIT_FROM_CKPT*\n",
      "INFO:tensorflow:  name = bert/encoder/layer_4/attention/self/value/bias:0, shape = (768,), *INIT_FROM_CKPT*\n",
      "I0123 13:57:48.307502 140674925967168 law_classifier.py:730]   name = bert/encoder/layer_4/attention/self/value/bias:0, shape = (768,), *INIT_FROM_CKPT*\n",
      "INFO:tensorflow:  name = bert/encoder/layer_4/attention/output/dense/kernel:0, shape = (768, 768), *INIT_FROM_CKPT*\n",
      "I0123 13:57:48.307556 140674925967168 law_classifier.py:730]   name = bert/encoder/layer_4/attention/output/dense/kernel:0, shape = (768, 768), *INIT_FROM_CKPT*\n",
      "INFO:tensorflow:  name = bert/encoder/layer_4/attention/output/dense/bias:0, shape = (768,), *INIT_FROM_CKPT*\n",
      "I0123 13:57:48.307612 140674925967168 law_classifier.py:730]   name = bert/encoder/layer_4/attention/output/dense/bias:0, shape = (768,), *INIT_FROM_CKPT*\n",
      "INFO:tensorflow:  name = bert/encoder/layer_4/attention/output/LayerNorm/beta:0, shape = (768,), *INIT_FROM_CKPT*\n",
      "I0123 13:57:48.307666 140674925967168 law_classifier.py:730]   name = bert/encoder/layer_4/attention/output/LayerNorm/beta:0, shape = (768,), *INIT_FROM_CKPT*\n",
      "INFO:tensorflow:  name = bert/encoder/layer_4/attention/output/LayerNorm/gamma:0, shape = (768,), *INIT_FROM_CKPT*\n",
      "I0123 13:57:48.307719 140674925967168 law_classifier.py:730]   name = bert/encoder/layer_4/attention/output/LayerNorm/gamma:0, shape = (768,), *INIT_FROM_CKPT*\n",
      "INFO:tensorflow:  name = bert/encoder/layer_4/intermediate/dense/kernel:0, shape = (768, 3072), *INIT_FROM_CKPT*\n",
      "I0123 13:57:48.307772 140674925967168 law_classifier.py:730]   name = bert/encoder/layer_4/intermediate/dense/kernel:0, shape = (768, 3072), *INIT_FROM_CKPT*\n",
      "INFO:tensorflow:  name = bert/encoder/layer_4/intermediate/dense/bias:0, shape = (3072,), *INIT_FROM_CKPT*\n",
      "I0123 13:57:48.307828 140674925967168 law_classifier.py:730]   name = bert/encoder/layer_4/intermediate/dense/bias:0, shape = (3072,), *INIT_FROM_CKPT*\n",
      "INFO:tensorflow:  name = bert/encoder/layer_4/output/dense/kernel:0, shape = (3072, 768), *INIT_FROM_CKPT*\n",
      "I0123 13:57:48.307882 140674925967168 law_classifier.py:730]   name = bert/encoder/layer_4/output/dense/kernel:0, shape = (3072, 768), *INIT_FROM_CKPT*\n",
      "INFO:tensorflow:  name = bert/encoder/layer_4/output/dense/bias:0, shape = (768,), *INIT_FROM_CKPT*\n",
      "I0123 13:57:48.307970 140674925967168 law_classifier.py:730]   name = bert/encoder/layer_4/output/dense/bias:0, shape = (768,), *INIT_FROM_CKPT*\n",
      "INFO:tensorflow:  name = bert/encoder/layer_4/output/LayerNorm/beta:0, shape = (768,), *INIT_FROM_CKPT*\n",
      "I0123 13:57:48.308024 140674925967168 law_classifier.py:730]   name = bert/encoder/layer_4/output/LayerNorm/beta:0, shape = (768,), *INIT_FROM_CKPT*\n",
      "INFO:tensorflow:  name = bert/encoder/layer_4/output/LayerNorm/gamma:0, shape = (768,), *INIT_FROM_CKPT*\n",
      "I0123 13:57:48.308077 140674925967168 law_classifier.py:730]   name = bert/encoder/layer_4/output/LayerNorm/gamma:0, shape = (768,), *INIT_FROM_CKPT*\n",
      "INFO:tensorflow:  name = bert/encoder/layer_5/attention/self/query/kernel:0, shape = (768, 768), *INIT_FROM_CKPT*\n",
      "I0123 13:57:48.308130 140674925967168 law_classifier.py:730]   name = bert/encoder/layer_5/attention/self/query/kernel:0, shape = (768, 768), *INIT_FROM_CKPT*\n",
      "INFO:tensorflow:  name = bert/encoder/layer_5/attention/self/query/bias:0, shape = (768,), *INIT_FROM_CKPT*\n",
      "I0123 13:57:48.308187 140674925967168 law_classifier.py:730]   name = bert/encoder/layer_5/attention/self/query/bias:0, shape = (768,), *INIT_FROM_CKPT*\n",
      "INFO:tensorflow:  name = bert/encoder/layer_5/attention/self/key/kernel:0, shape = (768, 768), *INIT_FROM_CKPT*\n",
      "I0123 13:57:48.308244 140674925967168 law_classifier.py:730]   name = bert/encoder/layer_5/attention/self/key/kernel:0, shape = (768, 768), *INIT_FROM_CKPT*\n",
      "INFO:tensorflow:  name = bert/encoder/layer_5/attention/self/key/bias:0, shape = (768,), *INIT_FROM_CKPT*\n",
      "I0123 13:57:48.308301 140674925967168 law_classifier.py:730]   name = bert/encoder/layer_5/attention/self/key/bias:0, shape = (768,), *INIT_FROM_CKPT*\n",
      "INFO:tensorflow:  name = bert/encoder/layer_5/attention/self/value/kernel:0, shape = (768, 768), *INIT_FROM_CKPT*\n",
      "I0123 13:57:48.308354 140674925967168 law_classifier.py:730]   name = bert/encoder/layer_5/attention/self/value/kernel:0, shape = (768, 768), *INIT_FROM_CKPT*\n",
      "INFO:tensorflow:  name = bert/encoder/layer_5/attention/self/value/bias:0, shape = (768,), *INIT_FROM_CKPT*\n",
      "I0123 13:57:48.308410 140674925967168 law_classifier.py:730]   name = bert/encoder/layer_5/attention/self/value/bias:0, shape = (768,), *INIT_FROM_CKPT*\n",
      "INFO:tensorflow:  name = bert/encoder/layer_5/attention/output/dense/kernel:0, shape = (768, 768), *INIT_FROM_CKPT*\n",
      "I0123 13:57:48.308484 140674925967168 law_classifier.py:730]   name = bert/encoder/layer_5/attention/output/dense/kernel:0, shape = (768, 768), *INIT_FROM_CKPT*\n",
      "INFO:tensorflow:  name = bert/encoder/layer_5/attention/output/dense/bias:0, shape = (768,), *INIT_FROM_CKPT*\n",
      "I0123 13:57:48.308544 140674925967168 law_classifier.py:730]   name = bert/encoder/layer_5/attention/output/dense/bias:0, shape = (768,), *INIT_FROM_CKPT*\n",
      "INFO:tensorflow:  name = bert/encoder/layer_5/attention/output/LayerNorm/beta:0, shape = (768,), *INIT_FROM_CKPT*\n",
      "I0123 13:57:48.308601 140674925967168 law_classifier.py:730]   name = bert/encoder/layer_5/attention/output/LayerNorm/beta:0, shape = (768,), *INIT_FROM_CKPT*\n",
      "INFO:tensorflow:  name = bert/encoder/layer_5/attention/output/LayerNorm/gamma:0, shape = (768,), *INIT_FROM_CKPT*\n",
      "I0123 13:57:48.308657 140674925967168 law_classifier.py:730]   name = bert/encoder/layer_5/attention/output/LayerNorm/gamma:0, shape = (768,), *INIT_FROM_CKPT*\n",
      "INFO:tensorflow:  name = bert/encoder/layer_5/intermediate/dense/kernel:0, shape = (768, 3072), *INIT_FROM_CKPT*\n",
      "I0123 13:57:48.308713 140674925967168 law_classifier.py:730]   name = bert/encoder/layer_5/intermediate/dense/kernel:0, shape = (768, 3072), *INIT_FROM_CKPT*\n",
      "INFO:tensorflow:  name = bert/encoder/layer_5/intermediate/dense/bias:0, shape = (3072,), *INIT_FROM_CKPT*\n",
      "I0123 13:57:48.308772 140674925967168 law_classifier.py:730]   name = bert/encoder/layer_5/intermediate/dense/bias:0, shape = (3072,), *INIT_FROM_CKPT*\n",
      "INFO:tensorflow:  name = bert/encoder/layer_5/output/dense/kernel:0, shape = (3072, 768), *INIT_FROM_CKPT*\n",
      "I0123 13:57:48.308828 140674925967168 law_classifier.py:730]   name = bert/encoder/layer_5/output/dense/kernel:0, shape = (3072, 768), *INIT_FROM_CKPT*\n",
      "INFO:tensorflow:  name = bert/encoder/layer_5/output/dense/bias:0, shape = (768,), *INIT_FROM_CKPT*\n",
      "I0123 13:57:48.308889 140674925967168 law_classifier.py:730]   name = bert/encoder/layer_5/output/dense/bias:0, shape = (768,), *INIT_FROM_CKPT*\n",
      "INFO:tensorflow:  name = bert/encoder/layer_5/output/LayerNorm/beta:0, shape = (768,), *INIT_FROM_CKPT*\n",
      "I0123 13:57:48.308945 140674925967168 law_classifier.py:730]   name = bert/encoder/layer_5/output/LayerNorm/beta:0, shape = (768,), *INIT_FROM_CKPT*\n",
      "INFO:tensorflow:  name = bert/encoder/layer_5/output/LayerNorm/gamma:0, shape = (768,), *INIT_FROM_CKPT*\n",
      "I0123 13:57:48.309001 140674925967168 law_classifier.py:730]   name = bert/encoder/layer_5/output/LayerNorm/gamma:0, shape = (768,), *INIT_FROM_CKPT*\n",
      "INFO:tensorflow:  name = bert/encoder/layer_6/attention/self/query/kernel:0, shape = (768, 768), *INIT_FROM_CKPT*\n",
      "I0123 13:57:48.309069 140674925967168 law_classifier.py:730]   name = bert/encoder/layer_6/attention/self/query/kernel:0, shape = (768, 768), *INIT_FROM_CKPT*\n",
      "INFO:tensorflow:  name = bert/encoder/layer_6/attention/self/query/bias:0, shape = (768,), *INIT_FROM_CKPT*\n",
      "I0123 13:57:48.309125 140674925967168 law_classifier.py:730]   name = bert/encoder/layer_6/attention/self/query/bias:0, shape = (768,), *INIT_FROM_CKPT*\n",
      "INFO:tensorflow:  name = bert/encoder/layer_6/attention/self/key/kernel:0, shape = (768, 768), *INIT_FROM_CKPT*\n",
      "I0123 13:57:48.309178 140674925967168 law_classifier.py:730]   name = bert/encoder/layer_6/attention/self/key/kernel:0, shape = (768, 768), *INIT_FROM_CKPT*\n",
      "INFO:tensorflow:  name = bert/encoder/layer_6/attention/self/key/bias:0, shape = (768,), *INIT_FROM_CKPT*\n",
      "I0123 13:57:48.309233 140674925967168 law_classifier.py:730]   name = bert/encoder/layer_6/attention/self/key/bias:0, shape = (768,), *INIT_FROM_CKPT*\n",
      "INFO:tensorflow:  name = bert/encoder/layer_6/attention/self/value/kernel:0, shape = (768, 768), *INIT_FROM_CKPT*\n",
      "I0123 13:57:48.309292 140674925967168 law_classifier.py:730]   name = bert/encoder/layer_6/attention/self/value/kernel:0, shape = (768, 768), *INIT_FROM_CKPT*\n",
      "INFO:tensorflow:  name = bert/encoder/layer_6/attention/self/value/bias:0, shape = (768,), *INIT_FROM_CKPT*\n",
      "I0123 13:57:48.309348 140674925967168 law_classifier.py:730]   name = bert/encoder/layer_6/attention/self/value/bias:0, shape = (768,), *INIT_FROM_CKPT*\n",
      "INFO:tensorflow:  name = bert/encoder/layer_6/attention/output/dense/kernel:0, shape = (768, 768), *INIT_FROM_CKPT*\n",
      "I0123 13:57:48.309401 140674925967168 law_classifier.py:730]   name = bert/encoder/layer_6/attention/output/dense/kernel:0, shape = (768, 768), *INIT_FROM_CKPT*\n",
      "INFO:tensorflow:  name = bert/encoder/layer_6/attention/output/dense/bias:0, shape = (768,), *INIT_FROM_CKPT*\n",
      "I0123 13:57:48.309457 140674925967168 law_classifier.py:730]   name = bert/encoder/layer_6/attention/output/dense/bias:0, shape = (768,), *INIT_FROM_CKPT*\n",
      "INFO:tensorflow:  name = bert/encoder/layer_6/attention/output/LayerNorm/beta:0, shape = (768,), *INIT_FROM_CKPT*\n",
      "I0123 13:57:48.309511 140674925967168 law_classifier.py:730]   name = bert/encoder/layer_6/attention/output/LayerNorm/beta:0, shape = (768,), *INIT_FROM_CKPT*\n",
      "INFO:tensorflow:  name = bert/encoder/layer_6/attention/output/LayerNorm/gamma:0, shape = (768,), *INIT_FROM_CKPT*\n",
      "I0123 13:57:48.309564 140674925967168 law_classifier.py:730]   name = bert/encoder/layer_6/attention/output/LayerNorm/gamma:0, shape = (768,), *INIT_FROM_CKPT*\n",
      "INFO:tensorflow:  name = bert/encoder/layer_6/intermediate/dense/kernel:0, shape = (768, 3072), *INIT_FROM_CKPT*\n",
      "I0123 13:57:48.309616 140674925967168 law_classifier.py:730]   name = bert/encoder/layer_6/intermediate/dense/kernel:0, shape = (768, 3072), *INIT_FROM_CKPT*\n",
      "INFO:tensorflow:  name = bert/encoder/layer_6/intermediate/dense/bias:0, shape = (3072,), *INIT_FROM_CKPT*\n",
      "I0123 13:57:48.309673 140674925967168 law_classifier.py:730]   name = bert/encoder/layer_6/intermediate/dense/bias:0, shape = (3072,), *INIT_FROM_CKPT*\n",
      "INFO:tensorflow:  name = bert/encoder/layer_6/output/dense/kernel:0, shape = (3072, 768), *INIT_FROM_CKPT*\n",
      "I0123 13:57:48.309726 140674925967168 law_classifier.py:730]   name = bert/encoder/layer_6/output/dense/kernel:0, shape = (3072, 768), *INIT_FROM_CKPT*\n",
      "INFO:tensorflow:  name = bert/encoder/layer_6/output/dense/bias:0, shape = (768,), *INIT_FROM_CKPT*\n",
      "I0123 13:57:48.309783 140674925967168 law_classifier.py:730]   name = bert/encoder/layer_6/output/dense/bias:0, shape = (768,), *INIT_FROM_CKPT*\n",
      "INFO:tensorflow:  name = bert/encoder/layer_6/output/LayerNorm/beta:0, shape = (768,), *INIT_FROM_CKPT*\n",
      "I0123 13:57:48.309837 140674925967168 law_classifier.py:730]   name = bert/encoder/layer_6/output/LayerNorm/beta:0, shape = (768,), *INIT_FROM_CKPT*\n",
      "INFO:tensorflow:  name = bert/encoder/layer_6/output/LayerNorm/gamma:0, shape = (768,), *INIT_FROM_CKPT*\n",
      "I0123 13:57:48.309889 140674925967168 law_classifier.py:730]   name = bert/encoder/layer_6/output/LayerNorm/gamma:0, shape = (768,), *INIT_FROM_CKPT*\n",
      "INFO:tensorflow:  name = bert/encoder/layer_7/attention/self/query/kernel:0, shape = (768, 768), *INIT_FROM_CKPT*\n",
      "I0123 13:57:48.309942 140674925967168 law_classifier.py:730]   name = bert/encoder/layer_7/attention/self/query/kernel:0, shape = (768, 768), *INIT_FROM_CKPT*\n",
      "INFO:tensorflow:  name = bert/encoder/layer_7/attention/self/query/bias:0, shape = (768,), *INIT_FROM_CKPT*\n",
      "I0123 13:57:48.309998 140674925967168 law_classifier.py:730]   name = bert/encoder/layer_7/attention/self/query/bias:0, shape = (768,), *INIT_FROM_CKPT*\n",
      "INFO:tensorflow:  name = bert/encoder/layer_7/attention/self/key/kernel:0, shape = (768, 768), *INIT_FROM_CKPT*\n",
      "I0123 13:57:48.310050 140674925967168 law_classifier.py:730]   name = bert/encoder/layer_7/attention/self/key/kernel:0, shape = (768, 768), *INIT_FROM_CKPT*\n",
      "INFO:tensorflow:  name = bert/encoder/layer_7/attention/self/key/bias:0, shape = (768,), *INIT_FROM_CKPT*\n",
      "I0123 13:57:48.310105 140674925967168 law_classifier.py:730]   name = bert/encoder/layer_7/attention/self/key/bias:0, shape = (768,), *INIT_FROM_CKPT*\n",
      "INFO:tensorflow:  name = bert/encoder/layer_7/attention/self/value/kernel:0, shape = (768, 768), *INIT_FROM_CKPT*\n",
      "I0123 13:57:48.310158 140674925967168 law_classifier.py:730]   name = bert/encoder/layer_7/attention/self/value/kernel:0, shape = (768, 768), *INIT_FROM_CKPT*\n",
      "INFO:tensorflow:  name = bert/encoder/layer_7/attention/self/value/bias:0, shape = (768,), *INIT_FROM_CKPT*\n",
      "I0123 13:57:48.310214 140674925967168 law_classifier.py:730]   name = bert/encoder/layer_7/attention/self/value/bias:0, shape = (768,), *INIT_FROM_CKPT*\n",
      "INFO:tensorflow:  name = bert/encoder/layer_7/attention/output/dense/kernel:0, shape = (768, 768), *INIT_FROM_CKPT*\n",
      "I0123 13:57:48.310285 140674925967168 law_classifier.py:730]   name = bert/encoder/layer_7/attention/output/dense/kernel:0, shape = (768, 768), *INIT_FROM_CKPT*\n",
      "INFO:tensorflow:  name = bert/encoder/layer_7/attention/output/dense/bias:0, shape = (768,), *INIT_FROM_CKPT*\n",
      "I0123 13:57:48.310343 140674925967168 law_classifier.py:730]   name = bert/encoder/layer_7/attention/output/dense/bias:0, shape = (768,), *INIT_FROM_CKPT*\n",
      "INFO:tensorflow:  name = bert/encoder/layer_7/attention/output/LayerNorm/beta:0, shape = (768,), *INIT_FROM_CKPT*\n",
      "I0123 13:57:48.310397 140674925967168 law_classifier.py:730]   name = bert/encoder/layer_7/attention/output/LayerNorm/beta:0, shape = (768,), *INIT_FROM_CKPT*\n",
      "INFO:tensorflow:  name = bert/encoder/layer_7/attention/output/LayerNorm/gamma:0, shape = (768,), *INIT_FROM_CKPT*\n",
      "I0123 13:57:48.310451 140674925967168 law_classifier.py:730]   name = bert/encoder/layer_7/attention/output/LayerNorm/gamma:0, shape = (768,), *INIT_FROM_CKPT*\n",
      "INFO:tensorflow:  name = bert/encoder/layer_7/intermediate/dense/kernel:0, shape = (768, 3072), *INIT_FROM_CKPT*\n",
      "I0123 13:57:48.310503 140674925967168 law_classifier.py:730]   name = bert/encoder/layer_7/intermediate/dense/kernel:0, shape = (768, 3072), *INIT_FROM_CKPT*\n",
      "INFO:tensorflow:  name = bert/encoder/layer_7/intermediate/dense/bias:0, shape = (3072,), *INIT_FROM_CKPT*\n",
      "I0123 13:57:48.310559 140674925967168 law_classifier.py:730]   name = bert/encoder/layer_7/intermediate/dense/bias:0, shape = (3072,), *INIT_FROM_CKPT*\n",
      "INFO:tensorflow:  name = bert/encoder/layer_7/output/dense/kernel:0, shape = (3072, 768), *INIT_FROM_CKPT*\n",
      "I0123 13:57:48.310613 140674925967168 law_classifier.py:730]   name = bert/encoder/layer_7/output/dense/kernel:0, shape = (3072, 768), *INIT_FROM_CKPT*\n",
      "INFO:tensorflow:  name = bert/encoder/layer_7/output/dense/bias:0, shape = (768,), *INIT_FROM_CKPT*\n",
      "I0123 13:57:48.310669 140674925967168 law_classifier.py:730]   name = bert/encoder/layer_7/output/dense/bias:0, shape = (768,), *INIT_FROM_CKPT*\n",
      "INFO:tensorflow:  name = bert/encoder/layer_7/output/LayerNorm/beta:0, shape = (768,), *INIT_FROM_CKPT*\n",
      "I0123 13:57:48.310723 140674925967168 law_classifier.py:730]   name = bert/encoder/layer_7/output/LayerNorm/beta:0, shape = (768,), *INIT_FROM_CKPT*\n",
      "INFO:tensorflow:  name = bert/encoder/layer_7/output/LayerNorm/gamma:0, shape = (768,), *INIT_FROM_CKPT*\n",
      "I0123 13:57:48.310793 140674925967168 law_classifier.py:730]   name = bert/encoder/layer_7/output/LayerNorm/gamma:0, shape = (768,), *INIT_FROM_CKPT*\n",
      "INFO:tensorflow:  name = bert/encoder/layer_8/attention/self/query/kernel:0, shape = (768, 768), *INIT_FROM_CKPT*\n",
      "I0123 13:57:48.310850 140674925967168 law_classifier.py:730]   name = bert/encoder/layer_8/attention/self/query/kernel:0, shape = (768, 768), *INIT_FROM_CKPT*\n",
      "INFO:tensorflow:  name = bert/encoder/layer_8/attention/self/query/bias:0, shape = (768,), *INIT_FROM_CKPT*\n",
      "I0123 13:57:48.310909 140674925967168 law_classifier.py:730]   name = bert/encoder/layer_8/attention/self/query/bias:0, shape = (768,), *INIT_FROM_CKPT*\n",
      "INFO:tensorflow:  name = bert/encoder/layer_8/attention/self/key/kernel:0, shape = (768, 768), *INIT_FROM_CKPT*\n",
      "I0123 13:57:48.310966 140674925967168 law_classifier.py:730]   name = bert/encoder/layer_8/attention/self/key/kernel:0, shape = (768, 768), *INIT_FROM_CKPT*\n",
      "INFO:tensorflow:  name = bert/encoder/layer_8/attention/self/key/bias:0, shape = (768,), *INIT_FROM_CKPT*\n",
      "I0123 13:57:48.311025 140674925967168 law_classifier.py:730]   name = bert/encoder/layer_8/attention/self/key/bias:0, shape = (768,), *INIT_FROM_CKPT*\n",
      "INFO:tensorflow:  name = bert/encoder/layer_8/attention/self/value/kernel:0, shape = (768, 768), *INIT_FROM_CKPT*\n",
      "I0123 13:57:48.311082 140674925967168 law_classifier.py:730]   name = bert/encoder/layer_8/attention/self/value/kernel:0, shape = (768, 768), *INIT_FROM_CKPT*\n",
      "INFO:tensorflow:  name = bert/encoder/layer_8/attention/self/value/bias:0, shape = (768,), *INIT_FROM_CKPT*\n",
      "I0123 13:57:48.311141 140674925967168 law_classifier.py:730]   name = bert/encoder/layer_8/attention/self/value/bias:0, shape = (768,), *INIT_FROM_CKPT*\n",
      "INFO:tensorflow:  name = bert/encoder/layer_8/attention/output/dense/kernel:0, shape = (768, 768), *INIT_FROM_CKPT*\n",
      "I0123 13:57:48.311198 140674925967168 law_classifier.py:730]   name = bert/encoder/layer_8/attention/output/dense/kernel:0, shape = (768, 768), *INIT_FROM_CKPT*\n",
      "INFO:tensorflow:  name = bert/encoder/layer_8/attention/output/dense/bias:0, shape = (768,), *INIT_FROM_CKPT*\n",
      "I0123 13:57:48.311272 140674925967168 law_classifier.py:730]   name = bert/encoder/layer_8/attention/output/dense/bias:0, shape = (768,), *INIT_FROM_CKPT*\n",
      "INFO:tensorflow:  name = bert/encoder/layer_8/attention/output/LayerNorm/beta:0, shape = (768,), *INIT_FROM_CKPT*\n",
      "I0123 13:57:48.311344 140674925967168 law_classifier.py:730]   name = bert/encoder/layer_8/attention/output/LayerNorm/beta:0, shape = (768,), *INIT_FROM_CKPT*\n",
      "INFO:tensorflow:  name = bert/encoder/layer_8/attention/output/LayerNorm/gamma:0, shape = (768,), *INIT_FROM_CKPT*\n",
      "I0123 13:57:48.311400 140674925967168 law_classifier.py:730]   name = bert/encoder/layer_8/attention/output/LayerNorm/gamma:0, shape = (768,), *INIT_FROM_CKPT*\n",
      "INFO:tensorflow:  name = bert/encoder/layer_8/intermediate/dense/kernel:0, shape = (768, 3072), *INIT_FROM_CKPT*\n",
      "I0123 13:57:48.311456 140674925967168 law_classifier.py:730]   name = bert/encoder/layer_8/intermediate/dense/kernel:0, shape = (768, 3072), *INIT_FROM_CKPT*\n",
      "INFO:tensorflow:  name = bert/encoder/layer_8/intermediate/dense/bias:0, shape = (3072,), *INIT_FROM_CKPT*\n",
      "I0123 13:57:48.311527 140674925967168 law_classifier.py:730]   name = bert/encoder/layer_8/intermediate/dense/bias:0, shape = (3072,), *INIT_FROM_CKPT*\n",
      "INFO:tensorflow:  name = bert/encoder/layer_8/output/dense/kernel:0, shape = (3072, 768), *INIT_FROM_CKPT*\n",
      "I0123 13:57:48.311581 140674925967168 law_classifier.py:730]   name = bert/encoder/layer_8/output/dense/kernel:0, shape = (3072, 768), *INIT_FROM_CKPT*\n",
      "INFO:tensorflow:  name = bert/encoder/layer_8/output/dense/bias:0, shape = (768,), *INIT_FROM_CKPT*\n",
      "I0123 13:57:48.311638 140674925967168 law_classifier.py:730]   name = bert/encoder/layer_8/output/dense/bias:0, shape = (768,), *INIT_FROM_CKPT*\n",
      "INFO:tensorflow:  name = bert/encoder/layer_8/output/LayerNorm/beta:0, shape = (768,), *INIT_FROM_CKPT*\n",
      "I0123 13:57:48.311691 140674925967168 law_classifier.py:730]   name = bert/encoder/layer_8/output/LayerNorm/beta:0, shape = (768,), *INIT_FROM_CKPT*\n",
      "INFO:tensorflow:  name = bert/encoder/layer_8/output/LayerNorm/gamma:0, shape = (768,), *INIT_FROM_CKPT*\n",
      "I0123 13:57:48.311744 140674925967168 law_classifier.py:730]   name = bert/encoder/layer_8/output/LayerNorm/gamma:0, shape = (768,), *INIT_FROM_CKPT*\n",
      "INFO:tensorflow:  name = bert/encoder/layer_9/attention/self/query/kernel:0, shape = (768, 768), *INIT_FROM_CKPT*\n",
      "I0123 13:57:48.311797 140674925967168 law_classifier.py:730]   name = bert/encoder/layer_9/attention/self/query/kernel:0, shape = (768, 768), *INIT_FROM_CKPT*\n",
      "INFO:tensorflow:  name = bert/encoder/layer_9/attention/self/query/bias:0, shape = (768,), *INIT_FROM_CKPT*\n",
      "I0123 13:57:48.311853 140674925967168 law_classifier.py:730]   name = bert/encoder/layer_9/attention/self/query/bias:0, shape = (768,), *INIT_FROM_CKPT*\n",
      "INFO:tensorflow:  name = bert/encoder/layer_9/attention/self/key/kernel:0, shape = (768, 768), *INIT_FROM_CKPT*\n",
      "I0123 13:57:48.311906 140674925967168 law_classifier.py:730]   name = bert/encoder/layer_9/attention/self/key/kernel:0, shape = (768, 768), *INIT_FROM_CKPT*\n",
      "INFO:tensorflow:  name = bert/encoder/layer_9/attention/self/key/bias:0, shape = (768,), *INIT_FROM_CKPT*\n",
      "I0123 13:57:48.311961 140674925967168 law_classifier.py:730]   name = bert/encoder/layer_9/attention/self/key/bias:0, shape = (768,), *INIT_FROM_CKPT*\n",
      "INFO:tensorflow:  name = bert/encoder/layer_9/attention/self/value/kernel:0, shape = (768, 768), *INIT_FROM_CKPT*\n",
      "I0123 13:57:48.312014 140674925967168 law_classifier.py:730]   name = bert/encoder/layer_9/attention/self/value/kernel:0, shape = (768, 768), *INIT_FROM_CKPT*\n",
      "INFO:tensorflow:  name = bert/encoder/layer_9/attention/self/value/bias:0, shape = (768,), *INIT_FROM_CKPT*\n",
      "I0123 13:57:48.312069 140674925967168 law_classifier.py:730]   name = bert/encoder/layer_9/attention/self/value/bias:0, shape = (768,), *INIT_FROM_CKPT*\n",
      "INFO:tensorflow:  name = bert/encoder/layer_9/attention/output/dense/kernel:0, shape = (768, 768), *INIT_FROM_CKPT*\n",
      "I0123 13:57:48.312122 140674925967168 law_classifier.py:730]   name = bert/encoder/layer_9/attention/output/dense/kernel:0, shape = (768, 768), *INIT_FROM_CKPT*\n",
      "INFO:tensorflow:  name = bert/encoder/layer_9/attention/output/dense/bias:0, shape = (768,), *INIT_FROM_CKPT*\n",
      "I0123 13:57:48.312177 140674925967168 law_classifier.py:730]   name = bert/encoder/layer_9/attention/output/dense/bias:0, shape = (768,), *INIT_FROM_CKPT*\n",
      "INFO:tensorflow:  name = bert/encoder/layer_9/attention/output/LayerNorm/beta:0, shape = (768,), *INIT_FROM_CKPT*\n",
      "I0123 13:57:48.312230 140674925967168 law_classifier.py:730]   name = bert/encoder/layer_9/attention/output/LayerNorm/beta:0, shape = (768,), *INIT_FROM_CKPT*\n",
      "INFO:tensorflow:  name = bert/encoder/layer_9/attention/output/LayerNorm/gamma:0, shape = (768,), *INIT_FROM_CKPT*\n",
      "I0123 13:57:48.312288 140674925967168 law_classifier.py:730]   name = bert/encoder/layer_9/attention/output/LayerNorm/gamma:0, shape = (768,), *INIT_FROM_CKPT*\n",
      "INFO:tensorflow:  name = bert/encoder/layer_9/intermediate/dense/kernel:0, shape = (768, 3072), *INIT_FROM_CKPT*\n",
      "I0123 13:57:48.312341 140674925967168 law_classifier.py:730]   name = bert/encoder/layer_9/intermediate/dense/kernel:0, shape = (768, 3072), *INIT_FROM_CKPT*\n",
      "INFO:tensorflow:  name = bert/encoder/layer_9/intermediate/dense/bias:0, shape = (3072,), *INIT_FROM_CKPT*\n",
      "I0123 13:57:48.312397 140674925967168 law_classifier.py:730]   name = bert/encoder/layer_9/intermediate/dense/bias:0, shape = (3072,), *INIT_FROM_CKPT*\n",
      "INFO:tensorflow:  name = bert/encoder/layer_9/output/dense/kernel:0, shape = (3072, 768), *INIT_FROM_CKPT*\n",
      "I0123 13:57:48.312451 140674925967168 law_classifier.py:730]   name = bert/encoder/layer_9/output/dense/kernel:0, shape = (3072, 768), *INIT_FROM_CKPT*\n",
      "INFO:tensorflow:  name = bert/encoder/layer_9/output/dense/bias:0, shape = (768,), *INIT_FROM_CKPT*\n",
      "I0123 13:57:48.312506 140674925967168 law_classifier.py:730]   name = bert/encoder/layer_9/output/dense/bias:0, shape = (768,), *INIT_FROM_CKPT*\n",
      "INFO:tensorflow:  name = bert/encoder/layer_9/output/LayerNorm/beta:0, shape = (768,), *INIT_FROM_CKPT*\n",
      "I0123 13:57:48.312560 140674925967168 law_classifier.py:730]   name = bert/encoder/layer_9/output/LayerNorm/beta:0, shape = (768,), *INIT_FROM_CKPT*\n",
      "INFO:tensorflow:  name = bert/encoder/layer_9/output/LayerNorm/gamma:0, shape = (768,), *INIT_FROM_CKPT*\n",
      "I0123 13:57:48.312613 140674925967168 law_classifier.py:730]   name = bert/encoder/layer_9/output/LayerNorm/gamma:0, shape = (768,), *INIT_FROM_CKPT*\n",
      "INFO:tensorflow:  name = bert/encoder/layer_10/attention/self/query/kernel:0, shape = (768, 768), *INIT_FROM_CKPT*\n",
      "I0123 13:57:48.312666 140674925967168 law_classifier.py:730]   name = bert/encoder/layer_10/attention/self/query/kernel:0, shape = (768, 768), *INIT_FROM_CKPT*\n",
      "INFO:tensorflow:  name = bert/encoder/layer_10/attention/self/query/bias:0, shape = (768,), *INIT_FROM_CKPT*\n",
      "I0123 13:57:48.312723 140674925967168 law_classifier.py:730]   name = bert/encoder/layer_10/attention/self/query/bias:0, shape = (768,), *INIT_FROM_CKPT*\n",
      "INFO:tensorflow:  name = bert/encoder/layer_10/attention/self/key/kernel:0, shape = (768, 768), *INIT_FROM_CKPT*\n",
      "I0123 13:57:48.312776 140674925967168 law_classifier.py:730]   name = bert/encoder/layer_10/attention/self/key/kernel:0, shape = (768, 768), *INIT_FROM_CKPT*\n",
      "INFO:tensorflow:  name = bert/encoder/layer_10/attention/self/key/bias:0, shape = (768,), *INIT_FROM_CKPT*\n",
      "I0123 13:57:48.312832 140674925967168 law_classifier.py:730]   name = bert/encoder/layer_10/attention/self/key/bias:0, shape = (768,), *INIT_FROM_CKPT*\n",
      "INFO:tensorflow:  name = bert/encoder/layer_10/attention/self/value/kernel:0, shape = (768, 768), *INIT_FROM_CKPT*\n",
      "I0123 13:57:48.312886 140674925967168 law_classifier.py:730]   name = bert/encoder/layer_10/attention/self/value/kernel:0, shape = (768, 768), *INIT_FROM_CKPT*\n",
      "INFO:tensorflow:  name = bert/encoder/layer_10/attention/self/value/bias:0, shape = (768,), *INIT_FROM_CKPT*\n",
      "I0123 13:57:48.312943 140674925967168 law_classifier.py:730]   name = bert/encoder/layer_10/attention/self/value/bias:0, shape = (768,), *INIT_FROM_CKPT*\n",
      "INFO:tensorflow:  name = bert/encoder/layer_10/attention/output/dense/kernel:0, shape = (768, 768), *INIT_FROM_CKPT*\n",
      "I0123 13:57:48.312996 140674925967168 law_classifier.py:730]   name = bert/encoder/layer_10/attention/output/dense/kernel:0, shape = (768, 768), *INIT_FROM_CKPT*\n",
      "INFO:tensorflow:  name = bert/encoder/layer_10/attention/output/dense/bias:0, shape = (768,), *INIT_FROM_CKPT*\n",
      "I0123 13:57:48.313071 140674925967168 law_classifier.py:730]   name = bert/encoder/layer_10/attention/output/dense/bias:0, shape = (768,), *INIT_FROM_CKPT*\n",
      "INFO:tensorflow:  name = bert/encoder/layer_10/attention/output/LayerNorm/beta:0, shape = (768,), *INIT_FROM_CKPT*\n",
      "I0123 13:57:48.313155 140674925967168 law_classifier.py:730]   name = bert/encoder/layer_10/attention/output/LayerNorm/beta:0, shape = (768,), *INIT_FROM_CKPT*\n",
      "INFO:tensorflow:  name = bert/encoder/layer_10/attention/output/LayerNorm/gamma:0, shape = (768,), *INIT_FROM_CKPT*\n",
      "I0123 13:57:48.313211 140674925967168 law_classifier.py:730]   name = bert/encoder/layer_10/attention/output/LayerNorm/gamma:0, shape = (768,), *INIT_FROM_CKPT*\n",
      "INFO:tensorflow:  name = bert/encoder/layer_10/intermediate/dense/kernel:0, shape = (768, 3072), *INIT_FROM_CKPT*\n",
      "I0123 13:57:48.313272 140674925967168 law_classifier.py:730]   name = bert/encoder/layer_10/intermediate/dense/kernel:0, shape = (768, 3072), *INIT_FROM_CKPT*\n",
      "INFO:tensorflow:  name = bert/encoder/layer_10/intermediate/dense/bias:0, shape = (3072,), *INIT_FROM_CKPT*\n",
      "I0123 13:57:48.313332 140674925967168 law_classifier.py:730]   name = bert/encoder/layer_10/intermediate/dense/bias:0, shape = (3072,), *INIT_FROM_CKPT*\n",
      "INFO:tensorflow:  name = bert/encoder/layer_10/output/dense/kernel:0, shape = (3072, 768), *INIT_FROM_CKPT*\n",
      "I0123 13:57:48.313389 140674925967168 law_classifier.py:730]   name = bert/encoder/layer_10/output/dense/kernel:0, shape = (3072, 768), *INIT_FROM_CKPT*\n",
      "INFO:tensorflow:  name = bert/encoder/layer_10/output/dense/bias:0, shape = (768,), *INIT_FROM_CKPT*\n",
      "I0123 13:57:48.313450 140674925967168 law_classifier.py:730]   name = bert/encoder/layer_10/output/dense/bias:0, shape = (768,), *INIT_FROM_CKPT*\n",
      "INFO:tensorflow:  name = bert/encoder/layer_10/output/LayerNorm/beta:0, shape = (768,), *INIT_FROM_CKPT*\n",
      "I0123 13:57:48.313506 140674925967168 law_classifier.py:730]   name = bert/encoder/layer_10/output/LayerNorm/beta:0, shape = (768,), *INIT_FROM_CKPT*\n",
      "INFO:tensorflow:  name = bert/encoder/layer_10/output/LayerNorm/gamma:0, shape = (768,), *INIT_FROM_CKPT*\n",
      "I0123 13:57:48.313561 140674925967168 law_classifier.py:730]   name = bert/encoder/layer_10/output/LayerNorm/gamma:0, shape = (768,), *INIT_FROM_CKPT*\n",
      "INFO:tensorflow:  name = bert/encoder/layer_11/attention/self/query/kernel:0, shape = (768, 768), *INIT_FROM_CKPT*\n",
      "I0123 13:57:48.313617 140674925967168 law_classifier.py:730]   name = bert/encoder/layer_11/attention/self/query/kernel:0, shape = (768, 768), *INIT_FROM_CKPT*\n",
      "INFO:tensorflow:  name = bert/encoder/layer_11/attention/self/query/bias:0, shape = (768,), *INIT_FROM_CKPT*\n",
      "I0123 13:57:48.313677 140674925967168 law_classifier.py:730]   name = bert/encoder/layer_11/attention/self/query/bias:0, shape = (768,), *INIT_FROM_CKPT*\n",
      "INFO:tensorflow:  name = bert/encoder/layer_11/attention/self/key/kernel:0, shape = (768, 768), *INIT_FROM_CKPT*\n",
      "I0123 13:57:48.313734 140674925967168 law_classifier.py:730]   name = bert/encoder/layer_11/attention/self/key/kernel:0, shape = (768, 768), *INIT_FROM_CKPT*\n",
      "INFO:tensorflow:  name = bert/encoder/layer_11/attention/self/key/bias:0, shape = (768,), *INIT_FROM_CKPT*\n",
      "I0123 13:57:48.313805 140674925967168 law_classifier.py:730]   name = bert/encoder/layer_11/attention/self/key/bias:0, shape = (768,), *INIT_FROM_CKPT*\n",
      "INFO:tensorflow:  name = bert/encoder/layer_11/attention/self/value/kernel:0, shape = (768, 768), *INIT_FROM_CKPT*\n",
      "I0123 13:57:48.313858 140674925967168 law_classifier.py:730]   name = bert/encoder/layer_11/attention/self/value/kernel:0, shape = (768, 768), *INIT_FROM_CKPT*\n",
      "INFO:tensorflow:  name = bert/encoder/layer_11/attention/self/value/bias:0, shape = (768,), *INIT_FROM_CKPT*\n",
      "I0123 13:57:48.313914 140674925967168 law_classifier.py:730]   name = bert/encoder/layer_11/attention/self/value/bias:0, shape = (768,), *INIT_FROM_CKPT*\n",
      "INFO:tensorflow:  name = bert/encoder/layer_11/attention/output/dense/kernel:0, shape = (768, 768), *INIT_FROM_CKPT*\n",
      "I0123 13:57:48.313987 140674925967168 law_classifier.py:730]   name = bert/encoder/layer_11/attention/output/dense/kernel:0, shape = (768, 768), *INIT_FROM_CKPT*\n",
      "INFO:tensorflow:  name = bert/encoder/layer_11/attention/output/dense/bias:0, shape = (768,), *INIT_FROM_CKPT*\n",
      "I0123 13:57:48.314047 140674925967168 law_classifier.py:730]   name = bert/encoder/layer_11/attention/output/dense/bias:0, shape = (768,), *INIT_FROM_CKPT*\n",
      "INFO:tensorflow:  name = bert/encoder/layer_11/attention/output/LayerNorm/beta:0, shape = (768,), *INIT_FROM_CKPT*\n",
      "I0123 13:57:48.314104 140674925967168 law_classifier.py:730]   name = bert/encoder/layer_11/attention/output/LayerNorm/beta:0, shape = (768,), *INIT_FROM_CKPT*\n",
      "INFO:tensorflow:  name = bert/encoder/layer_11/attention/output/LayerNorm/gamma:0, shape = (768,), *INIT_FROM_CKPT*\n",
      "I0123 13:57:48.314171 140674925967168 law_classifier.py:730]   name = bert/encoder/layer_11/attention/output/LayerNorm/gamma:0, shape = (768,), *INIT_FROM_CKPT*\n",
      "INFO:tensorflow:  name = bert/encoder/layer_11/intermediate/dense/kernel:0, shape = (768, 3072), *INIT_FROM_CKPT*\n",
      "I0123 13:57:48.314236 140674925967168 law_classifier.py:730]   name = bert/encoder/layer_11/intermediate/dense/kernel:0, shape = (768, 3072), *INIT_FROM_CKPT*\n",
      "INFO:tensorflow:  name = bert/encoder/layer_11/intermediate/dense/bias:0, shape = (3072,), *INIT_FROM_CKPT*\n",
      "I0123 13:57:48.314300 140674925967168 law_classifier.py:730]   name = bert/encoder/layer_11/intermediate/dense/bias:0, shape = (3072,), *INIT_FROM_CKPT*\n",
      "INFO:tensorflow:  name = bert/encoder/layer_11/output/dense/kernel:0, shape = (3072, 768), *INIT_FROM_CKPT*\n",
      "I0123 13:57:48.314354 140674925967168 law_classifier.py:730]   name = bert/encoder/layer_11/output/dense/kernel:0, shape = (3072, 768), *INIT_FROM_CKPT*\n",
      "INFO:tensorflow:  name = bert/encoder/layer_11/output/dense/bias:0, shape = (768,), *INIT_FROM_CKPT*\n",
      "I0123 13:57:48.314461 140674925967168 law_classifier.py:730]   name = bert/encoder/layer_11/output/dense/bias:0, shape = (768,), *INIT_FROM_CKPT*\n",
      "INFO:tensorflow:  name = bert/encoder/layer_11/output/LayerNorm/beta:0, shape = (768,), *INIT_FROM_CKPT*\n",
      "I0123 13:57:48.314524 140674925967168 law_classifier.py:730]   name = bert/encoder/layer_11/output/LayerNorm/beta:0, shape = (768,), *INIT_FROM_CKPT*\n",
      "INFO:tensorflow:  name = bert/encoder/layer_11/output/LayerNorm/gamma:0, shape = (768,), *INIT_FROM_CKPT*\n",
      "I0123 13:57:48.314586 140674925967168 law_classifier.py:730]   name = bert/encoder/layer_11/output/LayerNorm/gamma:0, shape = (768,), *INIT_FROM_CKPT*\n",
      "INFO:tensorflow:  name = bert/pooler/dense/kernel:0, shape = (768, 768), *INIT_FROM_CKPT*\n",
      "I0123 13:57:48.314649 140674925967168 law_classifier.py:730]   name = bert/pooler/dense/kernel:0, shape = (768, 768), *INIT_FROM_CKPT*\n",
      "INFO:tensorflow:  name = bert/pooler/dense/bias:0, shape = (768,), *INIT_FROM_CKPT*\n",
      "I0123 13:57:48.314715 140674925967168 law_classifier.py:730]   name = bert/pooler/dense/bias:0, shape = (768,), *INIT_FROM_CKPT*\n",
      "INFO:tensorflow:  name = output_weights:0, shape = (5, 768), *INIT_FROM_CKPT*\n",
      "I0123 13:57:48.314777 140674925967168 law_classifier.py:730]   name = output_weights:0, shape = (5, 768), *INIT_FROM_CKPT*\n",
      "INFO:tensorflow:  name = output_bias:0, shape = (5,), *INIT_FROM_CKPT*\n",
      "I0123 13:57:48.314842 140674925967168 law_classifier.py:730]   name = output_bias:0, shape = (5,), *INIT_FROM_CKPT*\n",
      "INFO:tensorflow:Done calling model_fn.\n",
      "I0123 13:57:48.315157 140674925967168 estimator.py:1150] Done calling model_fn.\n",
      "WARNING:tensorflow:From /opt/conda/lib/python3.7/site-packages/tensorflow_core/python/ops/array_ops.py:1475: where (from tensorflow.python.ops.array_ops) is deprecated and will be removed in a future version.\n",
      "Instructions for updating:\n",
      "Use tf.where in 2.0, which has the same broadcast rule as np.where\n",
      "W0123 13:57:48.431097 140674925967168 deprecation.py:323] From /opt/conda/lib/python3.7/site-packages/tensorflow_core/python/ops/array_ops.py:1475: where (from tensorflow.python.ops.array_ops) is deprecated and will be removed in a future version.\n",
      "Instructions for updating:\n",
      "Use tf.where in 2.0, which has the same broadcast rule as np.where\n",
      "INFO:tensorflow:Graph was finalized.\n",
      "I0123 13:57:48.682827 140674925967168 monitored_session.py:240] Graph was finalized.\n",
      "2021-01-23 13:57:48.689899: I tensorflow/core/platform/profile_utils/cpu_utils.cc:94] CPU Frequency: 2200000000 Hz\n",
      "2021-01-23 13:57:48.690996: I tensorflow/compiler/xla/service/service.cc:168] XLA service 0x558acf13a390 initialized for platform Host (this does not guarantee that XLA will be used). Devices:\n",
      "2021-01-23 13:57:48.691025: I tensorflow/compiler/xla/service/service.cc:176]   StreamExecutor device (0): Host, Default Version\n",
      "2021-01-23 13:57:48.693355: I tensorflow/stream_executor/platform/default/dso_loader.cc:48] Successfully opened dynamic library libcuda.so.1\n",
      "2021-01-23 13:57:49.416640: I tensorflow/stream_executor/cuda/cuda_gpu_executor.cc:983] successful NUMA node read from SysFS had negative value (-1), but there must be at least one NUMA node, so returning NUMA node zero\n",
      "2021-01-23 13:57:49.417386: I tensorflow/compiler/xla/service/service.cc:168] XLA service 0x558acb181620 initialized for platform CUDA (this does not guarantee that XLA will be used). Devices:\n",
      "2021-01-23 13:57:49.417421: I tensorflow/compiler/xla/service/service.cc:176]   StreamExecutor device (0): Tesla V100-SXM2-16GB, Compute Capability 7.0\n",
      "2021-01-23 13:57:49.417681: I tensorflow/stream_executor/cuda/cuda_gpu_executor.cc:983] successful NUMA node read from SysFS had negative value (-1), but there must be at least one NUMA node, so returning NUMA node zero\n",
      "2021-01-23 13:57:49.418281: I tensorflow/core/common_runtime/gpu/gpu_device.cc:1639] Found device 0 with properties: \n",
      "name: Tesla V100-SXM2-16GB major: 7 minor: 0 memoryClockRate(GHz): 1.53\n",
      "pciBusID: 0000:00:04.0\n",
      "2021-01-23 13:57:49.418319: I tensorflow/stream_executor/platform/default/dso_loader.cc:48] Successfully opened dynamic library libcudart.so.11.0\n",
      "2021-01-23 13:57:49.421084: I tensorflow/stream_executor/platform/default/dso_loader.cc:48] Successfully opened dynamic library libcublas.so.11\n",
      "2021-01-23 13:57:49.422316: I tensorflow/stream_executor/platform/default/dso_loader.cc:48] Successfully opened dynamic library libcufft.so.10\n",
      "2021-01-23 13:57:49.422616: I tensorflow/stream_executor/platform/default/dso_loader.cc:48] Successfully opened dynamic library libcurand.so.10\n",
      "2021-01-23 13:57:49.425567: I tensorflow/stream_executor/platform/default/dso_loader.cc:48] Successfully opened dynamic library libcusolver.so.10\n",
      "2021-01-23 13:57:49.426309: I tensorflow/stream_executor/platform/default/dso_loader.cc:48] Successfully opened dynamic library libcusparse.so.11\n",
      "2021-01-23 13:57:49.426476: I tensorflow/stream_executor/platform/default/dso_loader.cc:48] Successfully opened dynamic library libcudnn.so.8\n",
      "2021-01-23 13:57:49.426584: I tensorflow/stream_executor/cuda/cuda_gpu_executor.cc:983] successful NUMA node read from SysFS had negative value (-1), but there must be at least one NUMA node, so returning NUMA node zero\n",
      "2021-01-23 13:57:49.427260: I tensorflow/stream_executor/cuda/cuda_gpu_executor.cc:983] successful NUMA node read from SysFS had negative value (-1), but there must be at least one NUMA node, so returning NUMA node zero\n",
      "2021-01-23 13:57:49.427805: I tensorflow/core/common_runtime/gpu/gpu_device.cc:1767] Adding visible gpu devices: 0\n",
      "2021-01-23 13:57:49.427838: I tensorflow/stream_executor/platform/default/dso_loader.cc:48] Successfully opened dynamic library libcudart.so.11.0\n",
      "2021-01-23 13:57:49.774299: I tensorflow/core/common_runtime/gpu/gpu_device.cc:1180] Device interconnect StreamExecutor with strength 1 edge matrix:\n",
      "2021-01-23 13:57:49.774352: I tensorflow/core/common_runtime/gpu/gpu_device.cc:1186]      0 \n",
      "2021-01-23 13:57:49.774361: I tensorflow/core/common_runtime/gpu/gpu_device.cc:1199] 0:   N \n",
      "2021-01-23 13:57:49.774705: I tensorflow/stream_executor/cuda/cuda_gpu_executor.cc:983] successful NUMA node read from SysFS had negative value (-1), but there must be at least one NUMA node, so returning NUMA node zero\n",
      "2021-01-23 13:57:49.775448: I tensorflow/stream_executor/cuda/cuda_gpu_executor.cc:983] successful NUMA node read from SysFS had negative value (-1), but there must be at least one NUMA node, so returning NUMA node zero\n",
      "2021-01-23 13:57:49.776091: I tensorflow/core/common_runtime/gpu/gpu_device.cc:1325] Created TensorFlow device (/job:localhost/replica:0/task:0/device:GPU:0 with 14963 MB memory) -> physical GPU (device: 0, name: Tesla V100-SXM2-16GB, pci bus id: 0000:00:04.0, compute capability: 7.0)\n",
      "INFO:tensorflow:Running local_init_op.\n",
      "I0123 13:57:50.966366 140674925967168 session_manager.py:500] Running local_init_op.\n",
      "INFO:tensorflow:Done running local_init_op.\n",
      "I0123 13:57:51.024328 140674925967168 session_manager.py:502] Done running local_init_op.\n",
      "2021-01-23 13:57:51.772977: I tensorflow/stream_executor/platform/default/dso_loader.cc:48] Successfully opened dynamic library libcublas.so.11\n",
      "INFO:tensorflow:prediction_loop marked as finished\n",
      "I0123 13:57:58.185830 140674925967168 error_handling.py:101] prediction_loop marked as finished\n",
      "INFO:tensorflow:prediction_loop marked as finished\n",
      "I0123 13:57:58.186083 140674925967168 error_handling.py:101] prediction_loop marked as finished\n"
     ]
    }
   ],
   "source": [
    "# Run predict(Classes)\n",
    "!python bert/law_classifier.py \\--task_name=legaldoc \\--do_predict=true \\--data_dir=$DATA_DIR \\--vocab_file=$BPE_DIR/th.wiki.bpe.op25000.vocab \\--bert_config_file=$BERT_BASE_DIR/bert_config.json \\--init_checkpoint=$BERT_FINE_DIR/model.ckpt-456 \\--max_seq_length=128 \\--output_dir=$OUTPUT_DIR \\--spm_file=$BPE_DIR/th.wiki.bpe.op25000.model "
   ]
  },
  {
   "cell_type": "markdown",
   "metadata": {},
   "source": [
    "# Accuracy and Result"
   ]
  },
  {
   "cell_type": "markdown",
   "metadata": {},
   "source": [
    "**could test its accuracy by setting do_eval=true when finetuning. Here, I added a multi-class confusion matrix to give more information about the prediction in order to tune the model or come up with improvement strategi**"
   ]
  },
  {
   "cell_type": "code",
   "execution_count": 11,
   "metadata": {},
   "outputs": [],
   "source": [
    "def plot_confusion_matrix(y_true, y_pred, classes, destination=None, normalize=False, title=None, cmap=plt.cm.Blues):\n",
    "    \"\"\"\n",
    "    This function prints and plots the confusion matrix.\n",
    "    Normalization can be applied by setting `normalize=True`.\n",
    "    \"\"\"\n",
    "    if not title:\n",
    "        if normalize:\n",
    "            title = 'Normalized confusion matrix'\n",
    "        else:\n",
    "            title = 'Confusion matrix, without normalization'\n",
    "\n",
    "    # Compute confusion matrix\n",
    "    #cm = np.array([[ 11, 2 , 40 ,  2], [  0  , 0 ,  0  , 0], [ 37  , 8 ,114  , 4], [ 11 ,  0  ,33 , 1]])\n",
    "    cm = confusion_matrix(y_true, y_pred)\n",
    "    # Only use the labels that appear in the data\n",
    "    #classes = classes[unique_labels(y_true, y_pred)]\n",
    "    if normalize:\n",
    "        cm = cm.astype('float') / cm.sum(axis=1)[:, np.newaxis]\n",
    "        print(\"Normalized confusion matrix\")\n",
    "    else:\n",
    "        print('Confusion matrix, without normalization')\n",
    "\n",
    "    print(cm)\n",
    "\n",
    "    fig, ax = plt.subplots()\n",
    "    im = ax.imshow(cm, interpolation='nearest', cmap=cmap)\n",
    "    ax.figure.colorbar(im, ax=ax)\n",
    "    # We want to show all ticks...\n",
    "    ax.set(xticks=np.arange(cm.shape[1]),\n",
    "           yticks=np.arange(cm.shape[0]),\n",
    "           # ... and label them with the respective list entries\n",
    "           xticklabels=classes, yticklabels=classes,\n",
    "           title=title,\n",
    "           ylabel='True label',\n",
    "           xlabel='Predicted label')\n",
    "\n",
    "    # Rotate the tick labels and set their alignment.\n",
    "    plt.setp(ax.get_xticklabels(), rotation=30, ha=\"right\",\n",
    "             rotation_mode=\"anchor\")\n",
    "\n",
    "    # Loop over data dimensions and create text annotations.\n",
    "    fmt = '.2f' if normalize else 'd'\n",
    "    thresh = cm.max() / 2.\n",
    "    for i in range(cm.shape[0]):\n",
    "        for j in range(cm.shape[1]):\n",
    "            ax.text(j, i, format(cm[i, j], fmt),\n",
    "                    ha=\"center\", va=\"center\",\n",
    "                    color=\"white\" if cm[i, j] > thresh else \"black\")\n",
    "    fig.tight_layout()\n",
    "    #plt.show()\n",
    "    try:\n",
    "        plt.savefig(destination)\n",
    "    except:\n",
    "        pass\n",
    "    \n",
    "    return ax"
   ]
  },
  {
   "cell_type": "code",
   "execution_count": 12,
   "metadata": {},
   "outputs": [],
   "source": [
    "def compare_answer(row):\n",
    "  '''\n",
    "  Compares 2 columns of actual and predicted class. \n",
    "  \n",
    "  Returns:\n",
    "  -- 1 if they are the same\n",
    "  -- 0 otherwise.\n",
    "  '''\n",
    "  \n",
    "  if row['prediction'] == row['actual']:\n",
    "    return 1\n",
    "  else:\n",
    "    return 0"
   ]
  },
  {
   "cell_type": "code",
   "execution_count": 13,
   "metadata": {},
   "outputs": [],
   "source": [
    "def benchmark(actual_path, pred_path, confusion_matrix_path):\n",
    "  '''\n",
    "  Calculates model accuracy and confusion matrix\n",
    "\n",
    "  Arguments:\n",
    "  actual_path -- path of test file which contains actual labels.\n",
    "  pred_path -- path of prediction file which contains predicted labels.\n",
    "\n",
    "  Returns:\n",
    "  accuracy -- accuracy of the prediction\n",
    "  confusion matrix -- save as image file\n",
    "  '''\n",
    "\n",
    "  # Read files to dataframes\n",
    "  actual = pd.read_csv(actual_path, sep='\\t')\n",
    "  #actual = pd.read_csv(actual_path, error_bad_lines=False)\n",
    "  pred = pd.read_csv(pred_path, sep='\\t')\n",
    "\n",
    "  # Create result dataframe\n",
    "  result = pred.copy()\n",
    "  result['prediction'] = result.idxmax(axis=1)\n",
    "  result['actual'] = actual['labels']\n",
    "  result['correct'] = result.apply(lambda row: compare_answer(row), axis=1)\n",
    "\n",
    "  # Calculate accuracy\n",
    "  accuracy = sum(result['correct'])/len(result)\n",
    "\n",
    "  # Confusion Matrix\n",
    "  confusion_matrix = plot_confusion_matrix(result['actual'], result['prediction'], classes=['Violation', 'family', 'labor', 'contract', 'criminal'], destination=confusion_matrix_path, normalize=False, title='Confusion Matrix')\n",
    "\n",
    "  return accuracy, result"
   ]
  },
  {
   "cell_type": "code",
   "execution_count": 14,
   "metadata": {},
   "outputs": [],
   "source": [
    "# Benchmark accuracy\n",
    "actual_path = 'law_dataset/test_labels.tsv'\n",
    "pred_path = 'output_predict2/test_results.tsv'\n",
    "confusion_matrix_path = 'output_predict2/confusion_matrix.png'"
   ]
  },
  {
   "cell_type": "code",
   "execution_count": 15,
   "metadata": {},
   "outputs": [
    {
     "name": "stdout",
     "output_type": "stream",
     "text": [
      "Confusion matrix, without normalization\n",
      "[[ 74  17  13   3   3]\n",
      " [  6 733  17  22  16]\n",
      " [  9  12 266   1   9]\n",
      " [  0  22   1 582   0]\n",
      " [  0   8   2   3 290]]\n"
     ]
    },
    {
     "data": {
      "image/png": "[encoded data removed]",
      "text/plain": [
       "<Figure size 432x288 with 2 Axes>"
      ]
     },
     "metadata": {
      "needs_background": "light"
     },
     "output_type": "display_data"
    }
   ],
   "source": [
    "accuracy, result = benchmark(actual_path, pred_path, confusion_matrix_path)"
   ]
  },
  {
   "cell_type": "code",
   "execution_count": 16,
   "metadata": {},
   "outputs": [
    {
     "name": "stdout",
     "output_type": "stream",
     "text": [
      "0.9222380275011854\n"
     ]
    }
   ],
   "source": [
    "print(accuracy)"
   ]
  },
  {
   "cell_type": "code",
   "execution_count": 17,
   "metadata": {},
   "outputs": [
    {
     "name": "stdout",
     "output_type": "stream",
     "text": [
      "      Violation    family     labor  contract  criminal prediction     actual  \\\n",
      "0      0.957460  0.026618  0.005343  0.001329  0.009250  Violation  Violation   \n",
      "1      0.000926  0.000286  0.000432  0.010299  0.988057   criminal   contract   \n",
      "2      0.031536  0.000375  0.964034  0.001094  0.002960      labor      labor   \n",
      "3      0.000159  0.998271  0.000599  0.000487  0.000483     family     family   \n",
      "4      0.000818  0.000231  0.000272  0.000455  0.998223   criminal   criminal   \n",
      "...         ...       ...       ...       ...       ...        ...        ...   \n",
      "2104   0.000286  0.000148  0.000166  0.999152  0.000248   contract   contract   \n",
      "2105   0.000134  0.999341  0.000187  0.000157  0.000181     family     family   \n",
      "2106   0.000105  0.999364  0.000158  0.000234  0.000139     family     family   \n",
      "2107   0.000116  0.999404  0.000183  0.000159  0.000139     family     family   \n",
      "2108   0.000808  0.000230  0.000380  0.000377  0.998205   criminal   criminal   \n",
      "\n",
      "      correct  \n",
      "0           1  \n",
      "1           0  \n",
      "2           1  \n",
      "3           1  \n",
      "4           1  \n",
      "...       ...  \n",
      "2104        1  \n",
      "2105        1  \n",
      "2106        1  \n",
      "2107        1  \n",
      "2108        1  \n",
      "\n",
      "[2109 rows x 8 columns]\n"
     ]
    }
   ],
   "source": [
    "print(result)"
   ]
  },
  {
   "cell_type": "markdown",
   "metadata": {
    "id": "FIqrXOwqpxUs"
   },
   "source": []
  },
  {
   "cell_type": "markdown",
   "metadata": {},
   "source": []
  }
 ],
 "metadata": {
  "accelerator": "TPU",
  "colab": {
   "collapsed_sections": [],
   "name": "TEST_bert(finetuning).ipynb",
   "provenance": [],
   "toc_visible": true
  },
  "environment": {
   "name": "tf-gpu.1-15.m61",
   "type": "gcloud",
   "uri": "gcr.io/deeplearning-platform-release/tf-gpu.1-15:m61"
  },
  "kernelspec": {
   "display_name": "Python 3",
   "language": "python",
   "name": "python3"
  },
  "language_info": {
   "codemirror_mode": {
    "name": "ipython",
    "version": 3
   },
   "file_extension": ".py",
   "mimetype": "text/x-python",
   "name": "python",
   "nbconvert_exporter": "python",
   "pygments_lexer": "ipython3",
   "version": "3.7.9"
  }
 },
 "nbformat": 4,
 "nbformat_minor": 4
}
